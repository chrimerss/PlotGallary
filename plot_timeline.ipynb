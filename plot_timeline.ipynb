{
 "cells": [
  {
   "cell_type": "code",
   "execution_count": 14,
   "metadata": {},
   "outputs": [],
   "source": [
    "smap= pd.read_csv('SMAP_site.csv')"
   ]
  },
  {
   "cell_type": "code",
   "execution_count": 15,
   "metadata": {},
   "outputs": [],
   "source": [
    "smap.set_index('Unnamed: 0', inplace=True)\n",
    "smap.index= pd.to_datetime(smap.index, format='%Y%m%d')"
   ]
  },
  {
   "cell_type": "code",
   "execution_count": 19,
   "metadata": {},
   "outputs": [],
   "source": [
    "smap= smap.sort_index()"
   ]
  },
  {
   "cell_type": "code",
   "execution_count": 21,
   "metadata": {},
   "outputs": [],
   "source": [
    "smap[smap==-9999]= np.nan"
   ]
  },
  {
   "cell_type": "code",
   "execution_count": 26,
   "metadata": {},
   "outputs": [
    {
     "data": {
      "text/plain": [
       "'6'"
      ]
     },
     "execution_count": 26,
     "metadata": {},
     "output_type": "execute_result"
    }
   ],
   "source": [
    "smap.apply(lambda x: len(x[~pd.isna(x)])/len(smap), axis=0).argmax()"
   ]
  },
  {
   "cell_type": "code",
   "execution_count": 27,
   "metadata": {},
   "outputs": [
    {
     "data": {
      "text/plain": [
       "Unnamed: 0\n",
       "2015-04-01    0.088007\n",
       "2015-04-02    0.107143\n",
       "2015-04-03         NaN\n",
       "2015-04-04    0.065996\n",
       "2015-04-05    0.060645\n",
       "                ...   \n",
       "2020-01-26    0.169054\n",
       "2020-01-28    0.156664\n",
       "2020-01-29    0.161368\n",
       "2020-01-30    0.232975\n",
       "2020-01-31         NaN\n",
       "Name: 6, Length: 1729, dtype: float64"
      ]
     },
     "execution_count": 27,
     "metadata": {},
     "output_type": "execute_result"
    }
   ],
   "source": [
    "smap['6']"
   ]
  },
  {
   "cell_type": "code",
   "execution_count": 30,
   "metadata": {},
   "outputs": [],
   "source": [
    "ilocs= smap[pd.isna(smap['6'])].index"
   ]
  },
  {
   "cell_type": "code",
   "execution_count": 32,
   "metadata": {},
   "outputs": [],
   "source": [
    "import datetime"
   ]
  },
  {
   "cell_type": "code",
   "execution_count": 34,
   "metadata": {},
   "outputs": [
    {
     "data": {
      "text/plain": [
       "datetime.timedelta(1)"
      ]
     },
     "execution_count": 34,
     "metadata": {},
     "output_type": "execute_result"
    }
   ],
   "source": [
    "datetime.timedelta(days=1)"
   ]
  },
  {
   "cell_type": "code",
   "execution_count": 56,
   "metadata": {},
   "outputs": [],
   "source": [
    "noah= pd.read_csv('Noah_site.csv')"
   ]
  },
  {
   "cell_type": "code",
   "execution_count": 57,
   "metadata": {},
   "outputs": [],
   "source": [
    "noah.set_index('Unnamed: 0', inplace=True)\n",
    "noah.index= pd.to_datetime(noah.index, format='%Y%m%d %H:%M:%S')\n",
    "noah= noah.sort_index()"
   ]
  },
  {
   "cell_type": "code",
   "execution_count": 59,
   "metadata": {},
   "outputs": [
    {
     "data": {
      "text/plain": [
       "4.840155601501465"
      ]
     },
     "execution_count": 59,
     "metadata": {},
     "output_type": "execute_result"
    }
   ],
   "source": [
    "noah.min().min()"
   ]
  },
  {
   "cell_type": "code",
   "execution_count": null,
   "metadata": {},
   "outputs": [],
   "source": [
    "noah= pd.read_csv('mesonet.csv')"
   ]
  },
  {
   "cell_type": "code",
   "execution_count": 61,
   "metadata": {},
   "outputs": [
    {
     "data": {
      "text/html": [
       "<div>\n",
       "<style scoped>\n",
       "    .dataframe tbody tr th:only-of-type {\n",
       "        vertical-align: middle;\n",
       "    }\n",
       "\n",
       "    .dataframe tbody tr th {\n",
       "        vertical-align: top;\n",
       "    }\n",
       "\n",
       "    .dataframe thead th {\n",
       "        text-align: right;\n",
       "    }\n",
       "</style>\n",
       "<table border=\"1\" class=\"dataframe\">\n",
       "  <thead>\n",
       "    <tr style=\"text-align: right;\">\n",
       "      <th></th>\n",
       "      <th>110</th>\n",
       "      <th>1</th>\n",
       "      <th>2</th>\n",
       "      <th>116</th>\n",
       "      <th>135</th>\n",
       "      <th>111</th>\n",
       "      <th>126</th>\n",
       "      <th>6</th>\n",
       "      <th>8</th>\n",
       "      <th>9</th>\n",
       "      <th>10</th>\n",
       "      <th>11</th>\n",
       "      <th>12</th>\n",
       "      <th>14</th>\n",
       "      <th>15</th>\n",
       "      <th>...</th>\n",
       "      <th>94</th>\n",
       "      <th>95</th>\n",
       "      <th>137</th>\n",
       "      <th>97</th>\n",
       "      <th>136</th>\n",
       "      <th>99</th>\n",
       "      <th>100</th>\n",
       "      <th>101</th>\n",
       "      <th>102</th>\n",
       "      <th>132</th>\n",
       "      <th>104</th>\n",
       "      <th>105</th>\n",
       "      <th>106</th>\n",
       "      <th>107</th>\n",
       "      <th>108</th>\n",
       "    </tr>\n",
       "    <tr>\n",
       "      <th>Unnamed: 0</th>\n",
       "      <th></th>\n",
       "      <th></th>\n",
       "      <th></th>\n",
       "      <th></th>\n",
       "      <th></th>\n",
       "      <th></th>\n",
       "      <th></th>\n",
       "      <th></th>\n",
       "      <th></th>\n",
       "      <th></th>\n",
       "      <th></th>\n",
       "      <th></th>\n",
       "      <th></th>\n",
       "      <th></th>\n",
       "      <th></th>\n",
       "      <th></th>\n",
       "      <th></th>\n",
       "      <th></th>\n",
       "      <th></th>\n",
       "      <th></th>\n",
       "      <th></th>\n",
       "      <th></th>\n",
       "      <th></th>\n",
       "      <th></th>\n",
       "      <th></th>\n",
       "      <th></th>\n",
       "      <th></th>\n",
       "      <th></th>\n",
       "      <th></th>\n",
       "      <th></th>\n",
       "      <th></th>\n",
       "    </tr>\n",
       "  </thead>\n",
       "  <tbody>\n",
       "    <tr>\n",
       "      <td>2019-07-02 19:00:00</td>\n",
       "      <td>16.099824</td>\n",
       "      <td>19.780000</td>\n",
       "      <td>18.940156</td>\n",
       "      <td>21.780000</td>\n",
       "      <td>21.020234</td>\n",
       "      <td>15.070039</td>\n",
       "      <td>18.500215</td>\n",
       "      <td>15.349824</td>\n",
       "      <td>30.000215</td>\n",
       "      <td>24.960176</td>\n",
       "      <td>18.409883</td>\n",
       "      <td>25.809785</td>\n",
       "      <td>18.219941</td>\n",
       "      <td>25.980195</td>\n",
       "      <td>19.909883</td>\n",
       "      <td>...</td>\n",
       "      <td>13.050019</td>\n",
       "      <td>19.270234</td>\n",
       "      <td>25.289765</td>\n",
       "      <td>28.360078</td>\n",
       "      <td>16.619843</td>\n",
       "      <td>20.739961</td>\n",
       "      <td>16.420136</td>\n",
       "      <td>19.369843</td>\n",
       "      <td>25.509980</td>\n",
       "      <td>27.679902</td>\n",
       "      <td>29.469941</td>\n",
       "      <td>26.460176</td>\n",
       "      <td>30.429902</td>\n",
       "      <td>16.159883</td>\n",
       "      <td>19.960176</td>\n",
       "    </tr>\n",
       "    <tr>\n",
       "      <td>2019-07-02 20:00:00</td>\n",
       "      <td>16.030195</td>\n",
       "      <td>19.709883</td>\n",
       "      <td>18.899824</td>\n",
       "      <td>21.680098</td>\n",
       "      <td>20.959883</td>\n",
       "      <td>14.999922</td>\n",
       "      <td>18.430098</td>\n",
       "      <td>15.280195</td>\n",
       "      <td>29.740156</td>\n",
       "      <td>24.850019</td>\n",
       "      <td>18.330000</td>\n",
       "      <td>25.700117</td>\n",
       "      <td>18.140059</td>\n",
       "      <td>25.830000</td>\n",
       "      <td>19.850019</td>\n",
       "      <td>...</td>\n",
       "      <td>12.999922</td>\n",
       "      <td>19.200117</td>\n",
       "      <td>25.089766</td>\n",
       "      <td>28.280195</td>\n",
       "      <td>16.539961</td>\n",
       "      <td>20.660078</td>\n",
       "      <td>16.339766</td>\n",
       "      <td>19.280195</td>\n",
       "      <td>25.399824</td>\n",
       "      <td>27.129805</td>\n",
       "      <td>29.129805</td>\n",
       "      <td>26.280195</td>\n",
       "      <td>30.160078</td>\n",
       "      <td>16.080000</td>\n",
       "      <td>19.910078</td>\n",
       "    </tr>\n",
       "    <tr>\n",
       "      <td>2019-07-02 21:00:00</td>\n",
       "      <td>15.979785</td>\n",
       "      <td>19.650195</td>\n",
       "      <td>19.999804</td>\n",
       "      <td>21.590137</td>\n",
       "      <td>20.900195</td>\n",
       "      <td>14.940234</td>\n",
       "      <td>18.360156</td>\n",
       "      <td>15.240039</td>\n",
       "      <td>29.479785</td>\n",
       "      <td>24.749804</td>\n",
       "      <td>18.260058</td>\n",
       "      <td>25.599902</td>\n",
       "      <td>18.209765</td>\n",
       "      <td>25.709765</td>\n",
       "      <td>19.789844</td>\n",
       "      <td>...</td>\n",
       "      <td>13.200000</td>\n",
       "      <td>19.130176</td>\n",
       "      <td>24.909961</td>\n",
       "      <td>28.209765</td>\n",
       "      <td>16.479785</td>\n",
       "      <td>20.570117</td>\n",
       "      <td>16.269824</td>\n",
       "      <td>19.190234</td>\n",
       "      <td>25.300097</td>\n",
       "      <td>26.700000</td>\n",
       "      <td>28.860156</td>\n",
       "      <td>26.119922</td>\n",
       "      <td>29.940234</td>\n",
       "      <td>16.010058</td>\n",
       "      <td>19.860156</td>\n",
       "    </tr>\n",
       "    <tr>\n",
       "      <td>2019-07-02 22:00:00</td>\n",
       "      <td>15.930214</td>\n",
       "      <td>19.600136</td>\n",
       "      <td>20.609901</td>\n",
       "      <td>21.509804</td>\n",
       "      <td>20.850136</td>\n",
       "      <td>14.919960</td>\n",
       "      <td>18.299843</td>\n",
       "      <td>15.180214</td>\n",
       "      <td>29.230019</td>\n",
       "      <td>24.660194</td>\n",
       "      <td>18.189980</td>\n",
       "      <td>25.520058</td>\n",
       "      <td>23.750038</td>\n",
       "      <td>25.609901</td>\n",
       "      <td>19.730019</td>\n",
       "      <td>...</td>\n",
       "      <td>13.410194</td>\n",
       "      <td>19.080116</td>\n",
       "      <td>24.759804</td>\n",
       "      <td>28.149940</td>\n",
       "      <td>16.450233</td>\n",
       "      <td>20.500038</td>\n",
       "      <td>16.219765</td>\n",
       "      <td>19.109901</td>\n",
       "      <td>25.219765</td>\n",
       "      <td>26.359901</td>\n",
       "      <td>28.649940</td>\n",
       "      <td>25.989784</td>\n",
       "      <td>29.770058</td>\n",
       "      <td>16.129921</td>\n",
       "      <td>19.810097</td>\n",
       "    </tr>\n",
       "    <tr>\n",
       "      <td>2019-07-02 23:00:00</td>\n",
       "      <td>15.889960</td>\n",
       "      <td>19.550117</td>\n",
       "      <td>20.670234</td>\n",
       "      <td>21.439765</td>\n",
       "      <td>20.809882</td>\n",
       "      <td>14.900214</td>\n",
       "      <td>18.249824</td>\n",
       "      <td>15.130195</td>\n",
       "      <td>29.019843</td>\n",
       "      <td>24.599921</td>\n",
       "      <td>18.139960</td>\n",
       "      <td>25.530097</td>\n",
       "      <td>23.630195</td>\n",
       "      <td>26.539863</td>\n",
       "      <td>19.689765</td>\n",
       "      <td>...</td>\n",
       "      <td>13.380195</td>\n",
       "      <td>19.030097</td>\n",
       "      <td>24.659980</td>\n",
       "      <td>28.119941</td>\n",
       "      <td>16.400214</td>\n",
       "      <td>20.439765</td>\n",
       "      <td>16.159980</td>\n",
       "      <td>19.050117</td>\n",
       "      <td>25.159980</td>\n",
       "      <td>26.079902</td>\n",
       "      <td>28.570136</td>\n",
       "      <td>25.869941</td>\n",
       "      <td>29.630195</td>\n",
       "      <td>16.079902</td>\n",
       "      <td>19.769843</td>\n",
       "    </tr>\n",
       "  </tbody>\n",
       "</table>\n",
       "<p>5 rows × 115 columns</p>\n",
       "</div>"
      ],
      "text/plain": [
       "                           110          1          2        116        135  \\\n",
       "Unnamed: 0                                                                   \n",
       "2019-07-02 19:00:00  16.099824  19.780000  18.940156  21.780000  21.020234   \n",
       "2019-07-02 20:00:00  16.030195  19.709883  18.899824  21.680098  20.959883   \n",
       "2019-07-02 21:00:00  15.979785  19.650195  19.999804  21.590137  20.900195   \n",
       "2019-07-02 22:00:00  15.930214  19.600136  20.609901  21.509804  20.850136   \n",
       "2019-07-02 23:00:00  15.889960  19.550117  20.670234  21.439765  20.809882   \n",
       "\n",
       "                           111        126          6          8          9  \\\n",
       "Unnamed: 0                                                                   \n",
       "2019-07-02 19:00:00  15.070039  18.500215  15.349824  30.000215  24.960176   \n",
       "2019-07-02 20:00:00  14.999922  18.430098  15.280195  29.740156  24.850019   \n",
       "2019-07-02 21:00:00  14.940234  18.360156  15.240039  29.479785  24.749804   \n",
       "2019-07-02 22:00:00  14.919960  18.299843  15.180214  29.230019  24.660194   \n",
       "2019-07-02 23:00:00  14.900214  18.249824  15.130195  29.019843  24.599921   \n",
       "\n",
       "                            10         11         12         14         15  \\\n",
       "Unnamed: 0                                                                   \n",
       "2019-07-02 19:00:00  18.409883  25.809785  18.219941  25.980195  19.909883   \n",
       "2019-07-02 20:00:00  18.330000  25.700117  18.140059  25.830000  19.850019   \n",
       "2019-07-02 21:00:00  18.260058  25.599902  18.209765  25.709765  19.789844   \n",
       "2019-07-02 22:00:00  18.189980  25.520058  23.750038  25.609901  19.730019   \n",
       "2019-07-02 23:00:00  18.139960  25.530097  23.630195  26.539863  19.689765   \n",
       "\n",
       "                     ...         94         95        137         97  \\\n",
       "Unnamed: 0           ...                                               \n",
       "2019-07-02 19:00:00  ...  13.050019  19.270234  25.289765  28.360078   \n",
       "2019-07-02 20:00:00  ...  12.999922  19.200117  25.089766  28.280195   \n",
       "2019-07-02 21:00:00  ...  13.200000  19.130176  24.909961  28.209765   \n",
       "2019-07-02 22:00:00  ...  13.410194  19.080116  24.759804  28.149940   \n",
       "2019-07-02 23:00:00  ...  13.380195  19.030097  24.659980  28.119941   \n",
       "\n",
       "                           136         99        100        101        102  \\\n",
       "Unnamed: 0                                                                   \n",
       "2019-07-02 19:00:00  16.619843  20.739961  16.420136  19.369843  25.509980   \n",
       "2019-07-02 20:00:00  16.539961  20.660078  16.339766  19.280195  25.399824   \n",
       "2019-07-02 21:00:00  16.479785  20.570117  16.269824  19.190234  25.300097   \n",
       "2019-07-02 22:00:00  16.450233  20.500038  16.219765  19.109901  25.219765   \n",
       "2019-07-02 23:00:00  16.400214  20.439765  16.159980  19.050117  25.159980   \n",
       "\n",
       "                           132        104        105        106        107  \\\n",
       "Unnamed: 0                                                                   \n",
       "2019-07-02 19:00:00  27.679902  29.469941  26.460176  30.429902  16.159883   \n",
       "2019-07-02 20:00:00  27.129805  29.129805  26.280195  30.160078  16.080000   \n",
       "2019-07-02 21:00:00  26.700000  28.860156  26.119922  29.940234  16.010058   \n",
       "2019-07-02 22:00:00  26.359901  28.649940  25.989784  29.770058  16.129921   \n",
       "2019-07-02 23:00:00  26.079902  28.570136  25.869941  29.630195  16.079902   \n",
       "\n",
       "                           108  \n",
       "Unnamed: 0                      \n",
       "2019-07-02 19:00:00  19.960176  \n",
       "2019-07-02 20:00:00  19.910078  \n",
       "2019-07-02 21:00:00  19.860156  \n",
       "2019-07-02 22:00:00  19.810097  \n",
       "2019-07-02 23:00:00  19.769843  \n",
       "\n",
       "[5 rows x 115 columns]"
      ]
     },
     "execution_count": 61,
     "metadata": {},
     "output_type": "execute_result"
    }
   ],
   "source": [
    "noah.tail()"
   ]
  },
  {
   "cell_type": "code",
   "execution_count": 62,
   "metadata": {},
   "outputs": [],
   "source": [
    "from_dates=[]\n",
    "to_dates= []\n",
    "first=True\n",
    "for i in range(len(ilocs)-1):\n",
    "    if first:\n",
    "        from_date=smap.index[0]\n",
    "        to_date=ilocs[0] - datetime.timedelta(days=1)\n",
    "        first=False\n",
    "    else:\n",
    "        from_date= ilocs[i] + datetime.timedelta(days=1)\n",
    "        to_date= ilocs[i+1]- datetime.timedelta(days=1)\n",
    "    from_dates.append(from_date)\n",
    "    to_dates.append(to_date)\n",
    "\n",
    "from_dates.append(pd.to_datetime('20150401'))\n",
    "to_dates.append(pd.to_datetime('20190702'))\n",
    "from_dates.append(pd.to_datetime('20150401'))\n",
    "to_dates.append(pd.to_datetime('20190702'))"
   ]
  },
  {
   "cell_type": "code",
   "execution_count": 68,
   "metadata": {},
   "outputs": [],
   "source": [
    "import altair as alt\n",
    "data = pd.DataFrame()\n",
    "data['from']= from_dates\n",
    "data['to']= to_dates\n",
    "data['product']= 'smap'\n",
    "data['product'].iloc[-1]= 'Mesonet'\n",
    "data['product'].iloc[-2]= 'Noah'"
   ]
  },
  {
   "cell_type": "code",
   "execution_count": 43,
   "metadata": {},
   "outputs": [
    {
     "data": {
      "text/plain": [
       "RendererRegistry.enable('jupyterlab')"
      ]
     },
     "execution_count": 43,
     "metadata": {},
     "output_type": "execute_result"
    }
   ],
   "source": [
    "alt.renderers.enable('jupyterlab')"
   ]
  },
  {
   "cell_type": "code",
   "execution_count": 69,
   "metadata": {},
   "outputs": [
    {
     "data": {
      "text/html": [
       "<div>\n",
       "<style scoped>\n",
       "    .dataframe tbody tr th:only-of-type {\n",
       "        vertical-align: middle;\n",
       "    }\n",
       "\n",
       "    .dataframe tbody tr th {\n",
       "        vertical-align: top;\n",
       "    }\n",
       "\n",
       "    .dataframe thead th {\n",
       "        text-align: right;\n",
       "    }\n",
       "</style>\n",
       "<table border=\"1\" class=\"dataframe\">\n",
       "  <thead>\n",
       "    <tr style=\"text-align: right;\">\n",
       "      <th></th>\n",
       "      <th>from</th>\n",
       "      <th>to</th>\n",
       "      <th>product</th>\n",
       "    </tr>\n",
       "  </thead>\n",
       "  <tbody>\n",
       "    <tr>\n",
       "      <td>0</td>\n",
       "      <td>2015-04-01</td>\n",
       "      <td>2015-04-02</td>\n",
       "      <td>smap</td>\n",
       "    </tr>\n",
       "    <tr>\n",
       "      <td>1</td>\n",
       "      <td>2015-04-12</td>\n",
       "      <td>2015-04-18</td>\n",
       "      <td>smap</td>\n",
       "    </tr>\n",
       "    <tr>\n",
       "      <td>2</td>\n",
       "      <td>2015-04-20</td>\n",
       "      <td>2015-05-11</td>\n",
       "      <td>smap</td>\n",
       "    </tr>\n",
       "    <tr>\n",
       "      <td>3</td>\n",
       "      <td>2015-05-13</td>\n",
       "      <td>2015-05-13</td>\n",
       "      <td>smap</td>\n",
       "    </tr>\n",
       "    <tr>\n",
       "      <td>4</td>\n",
       "      <td>2015-05-15</td>\n",
       "      <td>2015-05-14</td>\n",
       "      <td>smap</td>\n",
       "    </tr>\n",
       "    <tr>\n",
       "      <td>...</td>\n",
       "      <td>...</td>\n",
       "      <td>...</td>\n",
       "      <td>...</td>\n",
       "    </tr>\n",
       "    <tr>\n",
       "      <td>215</td>\n",
       "      <td>2020-01-19</td>\n",
       "      <td>2020-01-22</td>\n",
       "      <td>smap</td>\n",
       "    </tr>\n",
       "    <tr>\n",
       "      <td>216</td>\n",
       "      <td>2020-01-24</td>\n",
       "      <td>2020-01-23</td>\n",
       "      <td>smap</td>\n",
       "    </tr>\n",
       "    <tr>\n",
       "      <td>217</td>\n",
       "      <td>2020-01-25</td>\n",
       "      <td>2020-01-30</td>\n",
       "      <td>smap</td>\n",
       "    </tr>\n",
       "    <tr>\n",
       "      <td>218</td>\n",
       "      <td>2015-04-01</td>\n",
       "      <td>2019-07-02</td>\n",
       "      <td>Noah</td>\n",
       "    </tr>\n",
       "    <tr>\n",
       "      <td>219</td>\n",
       "      <td>2015-04-01</td>\n",
       "      <td>2019-07-02</td>\n",
       "      <td>Mesonet</td>\n",
       "    </tr>\n",
       "  </tbody>\n",
       "</table>\n",
       "<p>220 rows × 3 columns</p>\n",
       "</div>"
      ],
      "text/plain": [
       "          from         to  product\n",
       "0   2015-04-01 2015-04-02     smap\n",
       "1   2015-04-12 2015-04-18     smap\n",
       "2   2015-04-20 2015-05-11     smap\n",
       "3   2015-05-13 2015-05-13     smap\n",
       "4   2015-05-15 2015-05-14     smap\n",
       "..         ...        ...      ...\n",
       "215 2020-01-19 2020-01-22     smap\n",
       "216 2020-01-24 2020-01-23     smap\n",
       "217 2020-01-25 2020-01-30     smap\n",
       "218 2015-04-01 2019-07-02     Noah\n",
       "219 2015-04-01 2019-07-02  Mesonet\n",
       "\n",
       "[220 rows x 3 columns]"
      ]
     },
     "execution_count": 69,
     "metadata": {},
     "output_type": "execute_result"
    }
   ],
   "source": [
    "data"
   ]
  },
  {
   "cell_type": "code",
   "execution_count": 70,
   "metadata": {},
   "outputs": [
    {
     "data": {
      "application/vnd.vegalite.v4+json": {
       "$schema": "https://vega.github.io/schema/vega-lite/v4.8.1.json",
       "config": {
        "axis": {},
        "view": {
         "continuousHeight": 300,
         "continuousWidth": 400
        }
       },
       "data": {
        "name": "data-b75ca0c5c20aa09f01a6fa6955e388f1"
       },
       "datasets": {
        "data-b75ca0c5c20aa09f01a6fa6955e388f1": [
         {
          "from": "2015-04-01T00:00:00",
          "product": "smap",
          "to": "2015-04-02T00:00:00"
         },
         {
          "from": "2015-04-12T00:00:00",
          "product": "smap",
          "to": "2015-04-18T00:00:00"
         },
         {
          "from": "2015-04-20T00:00:00",
          "product": "smap",
          "to": "2015-05-11T00:00:00"
         },
         {
          "from": "2015-05-13T00:00:00",
          "product": "smap",
          "to": "2015-05-13T00:00:00"
         },
         {
          "from": "2015-05-15T00:00:00",
          "product": "smap",
          "to": "2015-05-14T00:00:00"
         },
         {
          "from": "2015-05-16T00:00:00",
          "product": "smap",
          "to": "2015-06-15T00:00:00"
         },
         {
          "from": "2015-06-17T00:00:00",
          "product": "smap",
          "to": "2015-06-16T00:00:00"
         },
         {
          "from": "2015-06-18T00:00:00",
          "product": "smap",
          "to": "2015-06-18T00:00:00"
         },
         {
          "from": "2015-06-20T00:00:00",
          "product": "smap",
          "to": "2015-07-07T00:00:00"
         },
         {
          "from": "2015-07-09T00:00:00",
          "product": "smap",
          "to": "2015-07-15T00:00:00"
         },
         {
          "from": "2015-07-17T00:00:00",
          "product": "smap",
          "to": "2015-07-23T00:00:00"
         },
         {
          "from": "2015-07-25T00:00:00",
          "product": "smap",
          "to": "2015-07-31T00:00:00"
         },
         {
          "from": "2015-08-02T00:00:00",
          "product": "smap",
          "to": "2015-08-03T00:00:00"
         },
         {
          "from": "2015-08-05T00:00:00",
          "product": "smap",
          "to": "2015-08-08T00:00:00"
         },
         {
          "from": "2015-08-10T00:00:00",
          "product": "smap",
          "to": "2015-08-16T00:00:00"
         },
         {
          "from": "2015-08-18T00:00:00",
          "product": "smap",
          "to": "2015-08-24T00:00:00"
         },
         {
          "from": "2015-08-26T00:00:00",
          "product": "smap",
          "to": "2015-09-30T00:00:00"
         },
         {
          "from": "2015-10-02T00:00:00",
          "product": "smap",
          "to": "2015-10-02T00:00:00"
         },
         {
          "from": "2015-10-04T00:00:00",
          "product": "smap",
          "to": "2015-10-04T00:00:00"
         },
         {
          "from": "2015-10-06T00:00:00",
          "product": "smap",
          "to": "2015-10-08T00:00:00"
         },
         {
          "from": "2015-10-10T00:00:00",
          "product": "smap",
          "to": "2015-10-12T00:00:00"
         },
         {
          "from": "2015-10-14T00:00:00",
          "product": "smap",
          "to": "2015-10-16T00:00:00"
         },
         {
          "from": "2015-10-18T00:00:00",
          "product": "smap",
          "to": "2015-10-20T00:00:00"
         },
         {
          "from": "2015-10-22T00:00:00",
          "product": "smap",
          "to": "2015-10-24T00:00:00"
         },
         {
          "from": "2015-10-26T00:00:00",
          "product": "smap",
          "to": "2015-10-27T00:00:00"
         },
         {
          "from": "2015-10-29T00:00:00",
          "product": "smap",
          "to": "2015-10-28T00:00:00"
         },
         {
          "from": "2015-10-30T00:00:00",
          "product": "smap",
          "to": "2015-11-01T00:00:00"
         },
         {
          "from": "2015-11-03T00:00:00",
          "product": "smap",
          "to": "2015-11-05T00:00:00"
         },
         {
          "from": "2015-11-07T00:00:00",
          "product": "smap",
          "to": "2015-11-09T00:00:00"
         },
         {
          "from": "2015-11-11T00:00:00",
          "product": "smap",
          "to": "2015-11-13T00:00:00"
         },
         {
          "from": "2015-11-15T00:00:00",
          "product": "smap",
          "to": "2015-11-17T00:00:00"
         },
         {
          "from": "2015-11-19T00:00:00",
          "product": "smap",
          "to": "2015-11-25T00:00:00"
         },
         {
          "from": "2015-11-27T00:00:00",
          "product": "smap",
          "to": "2015-11-26T00:00:00"
         },
         {
          "from": "2015-11-28T00:00:00",
          "product": "smap",
          "to": "2015-11-27T00:00:00"
         },
         {
          "from": "2015-11-29T00:00:00",
          "product": "smap",
          "to": "2015-11-28T00:00:00"
         },
         {
          "from": "2015-11-30T00:00:00",
          "product": "smap",
          "to": "2015-12-02T00:00:00"
         },
         {
          "from": "2015-12-04T00:00:00",
          "product": "smap",
          "to": "2015-12-13T00:00:00"
         },
         {
          "from": "2015-12-15T00:00:00",
          "product": "smap",
          "to": "2015-12-14T00:00:00"
         },
         {
          "from": "2015-12-16T00:00:00",
          "product": "smap",
          "to": "2015-12-16T00:00:00"
         },
         {
          "from": "2015-12-18T00:00:00",
          "product": "smap",
          "to": "2015-12-18T00:00:00"
         },
         {
          "from": "2015-12-20T00:00:00",
          "product": "smap",
          "to": "2015-12-22T00:00:00"
         },
         {
          "from": "2015-12-24T00:00:00",
          "product": "smap",
          "to": "2015-12-26T00:00:00"
         },
         {
          "from": "2015-12-28T00:00:00",
          "product": "smap",
          "to": "2015-12-27T00:00:00"
         },
         {
          "from": "2015-12-29T00:00:00",
          "product": "smap",
          "to": "2015-12-28T00:00:00"
         },
         {
          "from": "2015-12-30T00:00:00",
          "product": "smap",
          "to": "2015-12-30T00:00:00"
         },
         {
          "from": "2016-01-01T00:00:00",
          "product": "smap",
          "to": "2015-12-31T00:00:00"
         },
         {
          "from": "2016-01-02T00:00:00",
          "product": "smap",
          "to": "2016-01-01T00:00:00"
         },
         {
          "from": "2016-01-03T00:00:00",
          "product": "smap",
          "to": "2016-01-03T00:00:00"
         },
         {
          "from": "2016-01-05T00:00:00",
          "product": "smap",
          "to": "2016-01-07T00:00:00"
         },
         {
          "from": "2016-01-09T00:00:00",
          "product": "smap",
          "to": "2016-01-08T00:00:00"
         },
         {
          "from": "2016-01-10T00:00:00",
          "product": "smap",
          "to": "2016-01-09T00:00:00"
         },
         {
          "from": "2016-01-11T00:00:00",
          "product": "smap",
          "to": "2016-01-11T00:00:00"
         },
         {
          "from": "2016-01-13T00:00:00",
          "product": "smap",
          "to": "2016-01-15T00:00:00"
         },
         {
          "from": "2016-01-17T00:00:00",
          "product": "smap",
          "to": "2016-01-19T00:00:00"
         },
         {
          "from": "2016-01-21T00:00:00",
          "product": "smap",
          "to": "2016-01-23T00:00:00"
         },
         {
          "from": "2016-01-25T00:00:00",
          "product": "smap",
          "to": "2016-01-27T00:00:00"
         },
         {
          "from": "2016-01-29T00:00:00",
          "product": "smap",
          "to": "2016-02-04T00:00:00"
         },
         {
          "from": "2016-02-06T00:00:00",
          "product": "smap",
          "to": "2016-02-12T00:00:00"
         },
         {
          "from": "2016-02-14T00:00:00",
          "product": "smap",
          "to": "2016-04-29T00:00:00"
         },
         {
          "from": "2016-05-01T00:00:00",
          "product": "smap",
          "to": "2016-05-01T00:00:00"
         },
         {
          "from": "2016-05-03T00:00:00",
          "product": "smap",
          "to": "2016-05-22T00:00:00"
         },
         {
          "from": "2016-05-24T00:00:00",
          "product": "smap",
          "to": "2016-05-30T00:00:00"
         },
         {
          "from": "2016-06-01T00:00:00",
          "product": "smap",
          "to": "2016-06-16T00:00:00"
         },
         {
          "from": "2016-06-18T00:00:00",
          "product": "smap",
          "to": "2016-07-01T00:00:00"
         },
         {
          "from": "2016-07-03T00:00:00",
          "product": "smap",
          "to": "2016-07-14T00:00:00"
         },
         {
          "from": "2016-07-16T00:00:00",
          "product": "smap",
          "to": "2016-07-22T00:00:00"
         },
         {
          "from": "2016-07-24T00:00:00",
          "product": "smap",
          "to": "2016-07-30T00:00:00"
         },
         {
          "from": "2016-08-01T00:00:00",
          "product": "smap",
          "to": "2016-08-03T00:00:00"
         },
         {
          "from": "2016-08-05T00:00:00",
          "product": "smap",
          "to": "2016-08-07T00:00:00"
         },
         {
          "from": "2016-08-09T00:00:00",
          "product": "smap",
          "to": "2016-08-11T00:00:00"
         },
         {
          "from": "2016-08-13T00:00:00",
          "product": "smap",
          "to": "2016-08-15T00:00:00"
         },
         {
          "from": "2016-08-17T00:00:00",
          "product": "smap",
          "to": "2016-08-19T00:00:00"
         },
         {
          "from": "2016-08-21T00:00:00",
          "product": "smap",
          "to": "2016-08-22T00:00:00"
         },
         {
          "from": "2016-08-24T00:00:00",
          "product": "smap",
          "to": "2016-08-23T00:00:00"
         },
         {
          "from": "2016-08-25T00:00:00",
          "product": "smap",
          "to": "2016-08-27T00:00:00"
         },
         {
          "from": "2016-08-29T00:00:00",
          "product": "smap",
          "to": "2016-08-31T00:00:00"
         },
         {
          "from": "2016-09-02T00:00:00",
          "product": "smap",
          "to": "2016-09-02T00:00:00"
         },
         {
          "from": "2016-09-04T00:00:00",
          "product": "smap",
          "to": "2016-09-04T00:00:00"
         },
         {
          "from": "2016-09-06T00:00:00",
          "product": "smap",
          "to": "2016-09-08T00:00:00"
         },
         {
          "from": "2016-09-10T00:00:00",
          "product": "smap",
          "to": "2016-09-12T00:00:00"
         },
         {
          "from": "2016-09-14T00:00:00",
          "product": "smap",
          "to": "2016-09-16T00:00:00"
         },
         {
          "from": "2016-09-18T00:00:00",
          "product": "smap",
          "to": "2016-09-20T00:00:00"
         },
         {
          "from": "2016-09-22T00:00:00",
          "product": "smap",
          "to": "2016-09-24T00:00:00"
         },
         {
          "from": "2016-09-26T00:00:00",
          "product": "smap",
          "to": "2016-09-28T00:00:00"
         },
         {
          "from": "2016-09-30T00:00:00",
          "product": "smap",
          "to": "2016-10-01T00:00:00"
         },
         {
          "from": "2016-10-03T00:00:00",
          "product": "smap",
          "to": "2016-10-02T00:00:00"
         },
         {
          "from": "2016-10-04T00:00:00",
          "product": "smap",
          "to": "2016-10-06T00:00:00"
         },
         {
          "from": "2016-10-08T00:00:00",
          "product": "smap",
          "to": "2016-10-10T00:00:00"
         },
         {
          "from": "2016-10-12T00:00:00",
          "product": "smap",
          "to": "2016-10-29T00:00:00"
         },
         {
          "from": "2016-10-31T00:00:00",
          "product": "smap",
          "to": "2016-11-02T00:00:00"
         },
         {
          "from": "2016-11-04T00:00:00",
          "product": "smap",
          "to": "2016-11-06T00:00:00"
         },
         {
          "from": "2016-11-08T00:00:00",
          "product": "smap",
          "to": "2016-11-14T00:00:00"
         },
         {
          "from": "2016-11-16T00:00:00",
          "product": "smap",
          "to": "2016-12-04T00:00:00"
         },
         {
          "from": "2016-12-06T00:00:00",
          "product": "smap",
          "to": "2016-12-12T00:00:00"
         },
         {
          "from": "2016-12-14T00:00:00",
          "product": "smap",
          "to": "2016-12-20T00:00:00"
         },
         {
          "from": "2016-12-22T00:00:00",
          "product": "smap",
          "to": "2016-12-28T00:00:00"
         },
         {
          "from": "2016-12-30T00:00:00",
          "product": "smap",
          "to": "2017-01-05T00:00:00"
         },
         {
          "from": "2017-01-07T00:00:00",
          "product": "smap",
          "to": "2017-01-06T00:00:00"
         },
         {
          "from": "2017-01-08T00:00:00",
          "product": "smap",
          "to": "2017-01-07T00:00:00"
         },
         {
          "from": "2017-01-09T00:00:00",
          "product": "smap",
          "to": "2017-01-13T00:00:00"
         },
         {
          "from": "2017-01-15T00:00:00",
          "product": "smap",
          "to": "2017-01-21T00:00:00"
         },
         {
          "from": "2017-01-23T00:00:00",
          "product": "smap",
          "to": "2017-01-22T00:00:00"
         },
         {
          "from": "2017-01-24T00:00:00",
          "product": "smap",
          "to": "2017-01-26T00:00:00"
         },
         {
          "from": "2017-01-28T00:00:00",
          "product": "smap",
          "to": "2017-01-29T00:00:00"
         },
         {
          "from": "2017-01-31T00:00:00",
          "product": "smap",
          "to": "2017-01-30T00:00:00"
         },
         {
          "from": "2017-02-01T00:00:00",
          "product": "smap",
          "to": "2017-02-03T00:00:00"
         },
         {
          "from": "2017-02-05T00:00:00",
          "product": "smap",
          "to": "2017-02-06T00:00:00"
         },
         {
          "from": "2017-02-08T00:00:00",
          "product": "smap",
          "to": "2017-02-07T00:00:00"
         },
         {
          "from": "2017-02-09T00:00:00",
          "product": "smap",
          "to": "2017-02-09T00:00:00"
         },
         {
          "from": "2017-02-11T00:00:00",
          "product": "smap",
          "to": "2017-02-11T00:00:00"
         },
         {
          "from": "2017-02-13T00:00:00",
          "product": "smap",
          "to": "2017-02-14T00:00:00"
         },
         {
          "from": "2017-02-16T00:00:00",
          "product": "smap",
          "to": "2017-02-15T00:00:00"
         },
         {
          "from": "2017-02-17T00:00:00",
          "product": "smap",
          "to": "2017-02-19T00:00:00"
         },
         {
          "from": "2017-02-21T00:00:00",
          "product": "smap",
          "to": "2017-02-23T00:00:00"
         },
         {
          "from": "2017-02-25T00:00:00",
          "product": "smap",
          "to": "2017-02-27T00:00:00"
         },
         {
          "from": "2017-03-01T00:00:00",
          "product": "smap",
          "to": "2017-03-02T00:00:00"
         },
         {
          "from": "2017-03-04T00:00:00",
          "product": "smap",
          "to": "2017-03-03T00:00:00"
         },
         {
          "from": "2017-03-05T00:00:00",
          "product": "smap",
          "to": "2017-03-07T00:00:00"
         },
         {
          "from": "2017-03-09T00:00:00",
          "product": "smap",
          "to": "2017-03-11T00:00:00"
         },
         {
          "from": "2017-03-13T00:00:00",
          "product": "smap",
          "to": "2017-03-14T00:00:00"
         },
         {
          "from": "2017-03-16T00:00:00",
          "product": "smap",
          "to": "2017-03-19T00:00:00"
         },
         {
          "from": "2017-03-21T00:00:00",
          "product": "smap",
          "to": "2017-04-13T00:00:00"
         },
         {
          "from": "2017-04-15T00:00:00",
          "product": "smap",
          "to": "2017-04-30T00:00:00"
         },
         {
          "from": "2017-05-02T00:00:00",
          "product": "smap",
          "to": "2017-05-25T00:00:00"
         },
         {
          "from": "2017-05-27T00:00:00",
          "product": "smap",
          "to": "2017-06-02T00:00:00"
         },
         {
          "from": "2017-06-04T00:00:00",
          "product": "smap",
          "to": "2017-06-10T00:00:00"
         },
         {
          "from": "2017-06-12T00:00:00",
          "product": "smap",
          "to": "2017-06-11T00:00:00"
         },
         {
          "from": "2017-06-13T00:00:00",
          "product": "smap",
          "to": "2017-06-18T00:00:00"
         },
         {
          "from": "2017-06-20T00:00:00",
          "product": "smap",
          "to": "2017-06-26T00:00:00"
         },
         {
          "from": "2017-06-28T00:00:00",
          "product": "smap",
          "to": "2017-07-04T00:00:00"
         },
         {
          "from": "2017-07-06T00:00:00",
          "product": "smap",
          "to": "2017-07-12T00:00:00"
         },
         {
          "from": "2017-07-14T00:00:00",
          "product": "smap",
          "to": "2017-07-20T00:00:00"
         },
         {
          "from": "2017-07-22T00:00:00",
          "product": "smap",
          "to": "2017-08-13T00:00:00"
         },
         {
          "from": "2017-08-15T00:00:00",
          "product": "smap",
          "to": "2017-09-07T00:00:00"
         },
         {
          "from": "2017-09-09T00:00:00",
          "product": "smap",
          "to": "2017-12-07T00:00:00"
         },
         {
          "from": "2017-12-09T00:00:00",
          "product": "smap",
          "to": "2017-12-19T00:00:00"
         },
         {
          "from": "2017-12-21T00:00:00",
          "product": "smap",
          "to": "2017-12-27T00:00:00"
         },
         {
          "from": "2017-12-29T00:00:00",
          "product": "smap",
          "to": "2017-12-31T00:00:00"
         },
         {
          "from": "2018-01-02T00:00:00",
          "product": "smap",
          "to": "2018-01-08T00:00:00"
         },
         {
          "from": "2018-01-10T00:00:00",
          "product": "smap",
          "to": "2018-01-11T00:00:00"
         },
         {
          "from": "2018-01-13T00:00:00",
          "product": "smap",
          "to": "2018-01-16T00:00:00"
         },
         {
          "from": "2018-01-18T00:00:00",
          "product": "smap",
          "to": "2018-02-01T00:00:00"
         },
         {
          "from": "2018-02-03T00:00:00",
          "product": "smap",
          "to": "2018-02-09T00:00:00"
         },
         {
          "from": "2018-02-11T00:00:00",
          "product": "smap",
          "to": "2018-02-14T00:00:00"
         },
         {
          "from": "2018-02-16T00:00:00",
          "product": "smap",
          "to": "2018-02-17T00:00:00"
         },
         {
          "from": "2018-02-19T00:00:00",
          "product": "smap",
          "to": "2018-02-25T00:00:00"
         },
         {
          "from": "2018-02-27T00:00:00",
          "product": "smap",
          "to": "2018-03-05T00:00:00"
         },
         {
          "from": "2018-03-07T00:00:00",
          "product": "smap",
          "to": "2018-03-13T00:00:00"
         },
         {
          "from": "2018-03-15T00:00:00",
          "product": "smap",
          "to": "2018-04-14T00:00:00"
         },
         {
          "from": "2018-04-16T00:00:00",
          "product": "smap",
          "to": "2018-06-05T00:00:00"
         },
         {
          "from": "2018-06-07T00:00:00",
          "product": "smap",
          "to": "2018-06-13T00:00:00"
         },
         {
          "from": "2018-06-15T00:00:00",
          "product": "smap",
          "to": "2018-06-21T00:00:00"
         },
         {
          "from": "2018-06-23T00:00:00",
          "product": "smap",
          "to": "2018-06-26T00:00:00"
         },
         {
          "from": "2018-06-28T00:00:00",
          "product": "smap",
          "to": "2018-06-29T00:00:00"
         },
         {
          "from": "2018-07-01T00:00:00",
          "product": "smap",
          "to": "2018-07-07T00:00:00"
         },
         {
          "from": "2018-07-09T00:00:00",
          "product": "smap",
          "to": "2018-07-15T00:00:00"
         },
         {
          "from": "2018-07-17T00:00:00",
          "product": "smap",
          "to": "2018-07-17T00:00:00"
         },
         {
          "from": "2018-07-19T00:00:00",
          "product": "smap",
          "to": "2018-07-23T00:00:00"
         },
         {
          "from": "2018-07-25T00:00:00",
          "product": "smap",
          "to": "2018-07-31T00:00:00"
         },
         {
          "from": "2018-08-02T00:00:00",
          "product": "smap",
          "to": "2018-08-08T00:00:00"
         },
         {
          "from": "2018-08-10T00:00:00",
          "product": "smap",
          "to": "2018-08-16T00:00:00"
         },
         {
          "from": "2018-08-18T00:00:00",
          "product": "smap",
          "to": "2018-08-24T00:00:00"
         },
         {
          "from": "2018-08-26T00:00:00",
          "product": "smap",
          "to": "2018-12-17T00:00:00"
         },
         {
          "from": "2018-12-19T00:00:00",
          "product": "smap",
          "to": "2018-12-19T00:00:00"
         },
         {
          "from": "2018-12-21T00:00:00",
          "product": "smap",
          "to": "2018-12-26T00:00:00"
         },
         {
          "from": "2018-12-28T00:00:00",
          "product": "smap",
          "to": "2019-01-02T00:00:00"
         },
         {
          "from": "2019-01-04T00:00:00",
          "product": "smap",
          "to": "2019-01-03T00:00:00"
         },
         {
          "from": "2019-01-05T00:00:00",
          "product": "smap",
          "to": "2019-01-04T00:00:00"
         },
         {
          "from": "2019-01-06T00:00:00",
          "product": "smap",
          "to": "2019-01-11T00:00:00"
         },
         {
          "from": "2019-01-13T00:00:00",
          "product": "smap",
          "to": "2019-01-19T00:00:00"
         },
         {
          "from": "2019-01-21T00:00:00",
          "product": "smap",
          "to": "2019-01-27T00:00:00"
         },
         {
          "from": "2019-01-29T00:00:00",
          "product": "smap",
          "to": "2019-02-04T00:00:00"
         },
         {
          "from": "2019-02-06T00:00:00",
          "product": "smap",
          "to": "2019-02-08T00:00:00"
         },
         {
          "from": "2019-02-10T00:00:00",
          "product": "smap",
          "to": "2019-02-12T00:00:00"
         },
         {
          "from": "2019-02-14T00:00:00",
          "product": "smap",
          "to": "2019-02-16T00:00:00"
         },
         {
          "from": "2019-02-18T00:00:00",
          "product": "smap",
          "to": "2019-02-20T00:00:00"
         },
         {
          "from": "2019-02-22T00:00:00",
          "product": "smap",
          "to": "2019-02-23T00:00:00"
         },
         {
          "from": "2019-02-25T00:00:00",
          "product": "smap",
          "to": "2019-02-24T00:00:00"
         },
         {
          "from": "2019-02-26T00:00:00",
          "product": "smap",
          "to": "2019-02-28T00:00:00"
         },
         {
          "from": "2019-03-02T00:00:00",
          "product": "smap",
          "to": "2019-03-03T00:00:00"
         },
         {
          "from": "2019-03-05T00:00:00",
          "product": "smap",
          "to": "2019-03-04T00:00:00"
         },
         {
          "from": "2019-03-06T00:00:00",
          "product": "smap",
          "to": "2019-03-08T00:00:00"
         },
         {
          "from": "2019-03-10T00:00:00",
          "product": "smap",
          "to": "2019-03-12T00:00:00"
         },
         {
          "from": "2019-03-14T00:00:00",
          "product": "smap",
          "to": "2019-03-16T00:00:00"
         },
         {
          "from": "2019-03-18T00:00:00",
          "product": "smap",
          "to": "2019-03-24T00:00:00"
         },
         {
          "from": "2019-03-26T00:00:00",
          "product": "smap",
          "to": "2019-04-01T00:00:00"
         },
         {
          "from": "2019-04-03T00:00:00",
          "product": "smap",
          "to": "2019-04-17T00:00:00"
         },
         {
          "from": "2019-04-19T00:00:00",
          "product": "smap",
          "to": "2019-04-22T00:00:00"
         },
         {
          "from": "2019-04-24T00:00:00",
          "product": "smap",
          "to": "2019-05-18T00:00:00"
         },
         {
          "from": "2019-05-20T00:00:00",
          "product": "smap",
          "to": "2019-06-09T00:00:00"
         },
         {
          "from": "2019-06-11T00:00:00",
          "product": "smap",
          "to": "2019-07-22T00:00:00"
         },
         {
          "from": "2019-07-24T00:00:00",
          "product": "smap",
          "to": "2019-09-26T00:00:00"
         },
         {
          "from": "2019-09-28T00:00:00",
          "product": "smap",
          "to": "2019-10-10T00:00:00"
         },
         {
          "from": "2019-10-12T00:00:00",
          "product": "smap",
          "to": "2019-10-14T00:00:00"
         },
         {
          "from": "2019-10-16T00:00:00",
          "product": "smap",
          "to": "2019-10-22T00:00:00"
         },
         {
          "from": "2019-10-24T00:00:00",
          "product": "smap",
          "to": "2019-10-23T00:00:00"
         },
         {
          "from": "2019-10-25T00:00:00",
          "product": "smap",
          "to": "2019-10-30T00:00:00"
         },
         {
          "from": "2019-11-01T00:00:00",
          "product": "smap",
          "to": "2019-11-07T00:00:00"
         },
         {
          "from": "2019-11-09T00:00:00",
          "product": "smap",
          "to": "2019-11-11T00:00:00"
         },
         {
          "from": "2019-11-13T00:00:00",
          "product": "smap",
          "to": "2019-11-15T00:00:00"
         },
         {
          "from": "2019-11-17T00:00:00",
          "product": "smap",
          "to": "2019-11-16T00:00:00"
         },
         {
          "from": "2019-11-18T00:00:00",
          "product": "smap",
          "to": "2019-11-23T00:00:00"
         },
         {
          "from": "2019-11-25T00:00:00",
          "product": "smap",
          "to": "2019-12-05T00:00:00"
         },
         {
          "from": "2019-12-07T00:00:00",
          "product": "smap",
          "to": "2019-12-11T00:00:00"
         },
         {
          "from": "2019-12-13T00:00:00",
          "product": "smap",
          "to": "2019-12-12T00:00:00"
         },
         {
          "from": "2019-12-14T00:00:00",
          "product": "smap",
          "to": "2019-12-13T00:00:00"
         },
         {
          "from": "2019-12-15T00:00:00",
          "product": "smap",
          "to": "2019-12-15T00:00:00"
         },
         {
          "from": "2019-12-17T00:00:00",
          "product": "smap",
          "to": "2019-12-17T00:00:00"
         },
         {
          "from": "2019-12-19T00:00:00",
          "product": "smap",
          "to": "2019-12-21T00:00:00"
         },
         {
          "from": "2019-12-23T00:00:00",
          "product": "smap",
          "to": "2019-12-29T00:00:00"
         },
         {
          "from": "2019-12-31T00:00:00",
          "product": "smap",
          "to": "2020-01-06T00:00:00"
         },
         {
          "from": "2020-01-08T00:00:00",
          "product": "smap",
          "to": "2020-01-10T00:00:00"
         },
         {
          "from": "2020-01-12T00:00:00",
          "product": "smap",
          "to": "2020-01-14T00:00:00"
         },
         {
          "from": "2020-01-16T00:00:00",
          "product": "smap",
          "to": "2020-01-16T00:00:00"
         },
         {
          "from": "2020-01-18T00:00:00",
          "product": "smap",
          "to": "2020-01-17T00:00:00"
         },
         {
          "from": "2020-01-19T00:00:00",
          "product": "smap",
          "to": "2020-01-22T00:00:00"
         },
         {
          "from": "2020-01-24T00:00:00",
          "product": "smap",
          "to": "2020-01-23T00:00:00"
         },
         {
          "from": "2020-01-25T00:00:00",
          "product": "smap",
          "to": "2020-01-30T00:00:00"
         },
         {
          "from": "2015-04-01T00:00:00",
          "product": "Noah",
          "to": "2019-07-02T00:00:00"
         },
         {
          "from": "2015-04-01T00:00:00",
          "product": "Mesonet",
          "to": "2019-07-02T00:00:00"
         }
        ]
       },
       "encoding": {
        "color": {
         "field": "product",
         "scale": {
          "scheme": "dark2"
         },
         "type": "nominal"
        },
        "x": {
         "field": "from",
         "type": "temporal"
        },
        "x2": {
         "field": "to"
        },
        "y": {
         "field": "product",
         "type": "nominal"
        }
       },
       "mark": "bar",
       "width": 1000
      },
      "image/png": "[encoded data removed]",
      "text/plain": [
       "<VegaLite 4 object>\n",
       "\n",
       "If you see this message, it means the renderer has not been properly enabled\n",
       "for the frontend that you are using. For more information, see\n",
       "https://altair-viz.github.io/user_guide/troubleshooting.html\n"
      ]
     },
     "execution_count": 70,
     "metadata": {},
     "output_type": "execute_result"
    }
   ],
   "source": [
    "\n",
    "alt.Chart(data).mark_bar().encode(\n",
    "    x='from',\n",
    "    x2='to',\n",
    "    y='product',\n",
    "    color=alt.Color('product', scale=alt.Scale(scheme='dark2'))\n",
    ").properties(width=1000).configure_axis()"
   ]
  }
 ],
 "metadata": {
  "kernelspec": {
   "display_name": "Python 3",
   "language": "python",
   "name": "python3"
  },
  "language_info": {
   "codemirror_mode": {
    "name": "ipython",
    "version": 3
   },
   "file_extension": ".py",
   "mimetype": "text/x-python",
   "name": "python",
   "nbconvert_exporter": "python",
   "pygments_lexer": "ipython3",
   "version": "3.6.8"
  }
 },
 "nbformat": 4,
 "nbformat_minor": 4
}
