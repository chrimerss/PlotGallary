{
 "cells": [
  {
   "cell_type": "code",
   "execution_count": 211,
   "id": "3e91aad8-271e-4c14-a39e-df21c5887591",
   "metadata": {},
   "outputs": [],
   "source": [
    "import geopandas as gpd\n",
    "import xarray as xr\n",
    "import numpy as np\n",
    "import pandas as pd\n",
    "# import matplotlib.cbook\n",
    "# from matplotlib.cbook import boxplot_stat\n",
    "from matplotlibconfig import basic\n",
    "basic()"
   ]
  },
  {
   "cell_type": "code",
   "execution_count": 68,
   "id": "001f9f4d-8cd4-4103-85f6-dadbc23e908f",
   "metadata": {},
   "outputs": [],
   "source": [
    "river= gpd.read_file('../mizuroute_file/reach.shp')\n",
    "basins= gpd.read_file('../mizuroute_file/HRU.shp')\n",
    "lake= gpd.read_file('../Houston_lake/NHDWaterBody.shp')"
   ]
  },
  {
   "cell_type": "code",
   "execution_count": 69,
   "id": "2121a71a-62d5-44ce-b585-36a37887bdd1",
   "metadata": {},
   "outputs": [],
   "source": [
    "df_flow=pd.read_csv('../FlowID.txt')"
   ]
  },
  {
   "cell_type": "code",
   "execution_count": 70,
   "id": "9496e372-2c7d-40e2-95e0-de1b40125bd5",
   "metadata": {},
   "outputs": [],
   "source": [
    "pfaf_code_river= pd.read_csv('../mizuroute_file/pfaf_code_reach.csv').fillna(-9999).astype(int)\n",
    "pfaf_code_basin= pd.read_csv('../mizuroute_file/pfaf_code_basin.csv').fillna(-9999).astype(int)"
   ]
  },
  {
   "cell_type": "code",
   "execution_count": 71,
   "id": "6e2327fa-5b36-40f5-8d71-f08e0742880e",
   "metadata": {
    "tags": []
   },
   "outputs": [],
   "source": [
    "river['pfaf_code_1']= pfaf_code_river.pf_level_1.values.astype(str)\n",
    "river['pfaf_code_2']= pfaf_code_river.pf_level_2.values.astype(str)\n",
    "river['pfaf_code_3']= pfaf_code_river.pf_level_3.values.astype(str)\n",
    "river['pfaf_code_4']= pfaf_code_river.pf_level_4.values.astype(str)\n",
    "# basins['pfaf_code']= pfaf_code_basin.fillna(-9999).values.astype(int)"
   ]
  },
  {
   "cell_type": "code",
   "execution_count": 72,
   "id": "49945dd7-dca0-43ce-a390-2d014dbc4294",
   "metadata": {},
   "outputs": [],
   "source": [
    "river['toCOMID']= [df_flow[df_flow.FROMCOMID==river.iloc[i].COMID].TOCOMID.values[0] for i in range(len(river))]"
   ]
  },
  {
   "cell_type": "code",
   "execution_count": 73,
   "id": "eb505f20-21f0-4e45-93e8-1806f3585164",
   "metadata": {},
   "outputs": [],
   "source": [
    "basins= basins[[True if basins.iloc[i].FEATUREID in river.COMID.values else False for i in range(len(basins))]]"
   ]
  },
  {
   "cell_type": "markdown",
   "id": "f437243f-bcee-4648-80b5-fe00cb4cc937",
   "metadata": {},
   "source": [
    "bounds= river.total_bounds\n",
    "river_atlas= gpd.read_file('/mnt/s/Projects/couple_mizuRoute/RiverATLAS_Data_v10_shp/RiverATLAS_v10_shp/RiverATLAS_v10_na.shp',mask=river)"
   ]
  },
  {
   "cell_type": "markdown",
   "id": "cfb36c13-e431-48dd-b547-ec55bcd2fb84",
   "metadata": {},
   "source": [
    "river_atlas.to_file('/mnt/s/Projects/couple_mizuRoute/Houston_case/mizuroute_file/river_atlas.shp')"
   ]
  },
  {
   "cell_type": "code",
   "execution_count": 74,
   "id": "ad2a6ac4-5e4a-4bca-819e-6f0497753ff8",
   "metadata": {},
   "outputs": [],
   "source": [
    "'''\n",
    "Roughly estimate manning's coefficient using Strahler Stream Order from a look-up table\n",
    "\n",
    "Courtesy Dr. Hassan Mashriqui\n",
    "\n",
    "Source: proceedings.esri.com/library/userconf/proc16/papers/265_671.pdf\n",
    "\n",
    "'''\n",
    "\n",
    "order2n= {1:0.14,2:0.12,3:0.09,4:0.09,5:0.07,6:0.06,7:0.03,8:0.03,9:0.03,10:0.03}"
   ]
  },
  {
   "cell_type": "markdown",
   "id": "500cbd63-4804-49d3-be86-1c0538d164be",
   "metadata": {},
   "source": [
    "river.loc[[False if river.toCOMID.iloc[i] in river.COMID.values else True for i in range(len(river))], 'toCOMID']= -9999"
   ]
  },
  {
   "cell_type": "markdown",
   "id": "3af37898-79b7-4da4-b118-00e662abceef",
   "metadata": {},
   "source": [
    "river.loc[[False if river.toCOMID.iloc[i] in river.COMID.values else True for i in range(len(river))], 'TerminalFl']= 1"
   ]
  },
  {
   "cell_type": "markdown",
   "id": "8fbd3be4-397e-4cef-9efc-f4666a8db3d4",
   "metadata": {},
   "source": [
    "river.to_file('../mizuroute_file/reach_wToID.shp')"
   ]
  },
  {
   "cell_type": "code",
   "execution_count": 75,
   "id": "a23a849b-f05d-4146-b012-58f5fe39ee85",
   "metadata": {},
   "outputs": [],
   "source": [
    "river['lakeVol']= [lake.loc[lake.COMID==river.WBAREACOMI[i], 'LakeVolume'].values[0] if river.WBAREACOMI[i] in lake.COMID.values else 1 for i in range(len(river))]"
   ]
  },
  {
   "cell_type": "code",
   "execution_count": 76,
   "id": "c1180d24-9465-417d-9608-aa983986f03e",
   "metadata": {},
   "outputs": [],
   "source": [
    "river['LakeTar']=0"
   ]
  },
  {
   "cell_type": "code",
   "execution_count": 77,
   "id": "fc1186e8-2ba6-4669-9bea-d1832af86ccd",
   "metadata": {},
   "outputs": [],
   "source": [
    "river.loc[river.lakeVol<0, 'lakeVol']= 1\n",
    "river.loc[(river.lakeVol==0) & (river.LakeFract==1), 'lakeVol']= river.loc[river.LakeFract==1, 'lakeVol'].mean()\n",
    "# river.loc[river.COMID==1439133, 'lakeVol']= 0.05998*(1609.34**3) / 4\n",
    "river.loc[river.COMID==1440293, 'lakeVol']= 255330360/2\n",
    "river.loc[river.COMID==1439137, 'lakeVol']= 255330360\n",
    "river.loc[river.COMID==1439133, 'LakeTar']=1\n",
    "river.loc[river.COMID==1440293, 'LakeTar']=1\n",
    "river.loc[river.COMID==1439137, 'LakeTar']=1"
   ]
  },
  {
   "cell_type": "code",
   "execution_count": 19,
   "id": "65c91805-460b-40f4-b7e5-8618e1973f1d",
   "metadata": {},
   "outputs": [],
   "source": [
    "lake= nc4.Dataset('/mnt/s/Models/mizuRoute-feature-mpi-pio/example/HDMA_lake/ancillary_data/ntopo_nldas_hdma_lake_D03.nc')"
   ]
  },
  {
   "cell_type": "code",
   "execution_count": 66,
   "id": "cbf305df-0879-4f3c-a64f-f9495effbaf3",
   "metadata": {},
   "outputs": [],
   "source": [
    "import netCDF4 as nc4"
   ]
  },
  {
   "cell_type": "code",
   "execution_count": 148,
   "id": "380afa64-845b-4237-bf51-b04bb2712e3d",
   "metadata": {},
   "outputs": [],
   "source": [
    "with nc4.Dataset('topology_network_Houston.nc', 'w', format='NETCDF4') as f:\n",
    "    f.createDimension('seg', len(river))\n",
    "    f.createDimension('hru', len(basins))\n",
    "    f.createDimension('pfaf', 4)\n",
    "    segID= f.createVariable('segId', 'i4', 'seg', fill_value=-9999)\n",
    "    hruID= f.createVariable('HRUid', 'i4', 'hru', fill_value=-9999)\n",
    "    downID= f.createVariable('downSegId', 'i4', 'seg', fill_value=-9999)\n",
    "    lakeID= f.createVariable('lakeid', 'i8', 'seg', fill_value=-9999)\n",
    "    slope= f.createVariable('slope', 'f8', 'seg', fill_value=-9999)\n",
    "    length= f.createVariable('length', 'f8', 'seg', fill_value=-9999)\n",
    "    mann= f.createVariable('man_n', 'f8', 'seg', fill_value=-9999)\n",
    "    area= f.createVariable('area', 'f8', 'hru', fill_value=-9999)\n",
    "    hruSegId=f.createVariable('hruSegId', 'i4', 'hru', fill_value=-9999)\n",
    "    pfaf_code=f.createVariable('pfaf_code', 'S1', ('seg', 'pfaf'), fill_value=-9999)\n",
    "    islake= f.createVariable('islake', 'i8', 'seg', fill_value=-9999)\n",
    "    lake_storage= f.createVariable('D03_MaxStorage', 'f8', 'seg', fill_value=-9999)\n",
    "    lake_coef=f.createVariable('D03_Coefficient', 'f8', 'seg', fill_value=-9999)\n",
    "    lake_power=f.createVariable('D03_Power', 'f8', 'seg', fill_value=-9999)\n",
    "    lake_type= f.createVariable('lakeModelType', 'i4', 'seg', fill_value=-9999)\n",
    "    lake_tarVol=f.createVariable('lakeTargetVolume', 'i4', 'seg', fill_value=-9999)\n",
    "\n",
    "\n",
    "    segID[:]= river.COMID.values\n",
    "    hruID[:]= basins.GRIDCODE.values\n",
    "    hruSegId[:]= basins.FEATUREID.values\n",
    "    downID[:]=  river.toCOMID.values\n",
    "    area[:]= (basins.AreaSqKM.values*1e6).astype(np.float32)\n",
    "    slope[:]= river.SLOPE.values\n",
    "    length[:]= (river.LENGTHKM.values*1000)\n",
    "    mann[:]= river.StreamOrde.map(order2n).values\n",
    "    pfaf_code[:]=  np.hstack([river.pfaf_code_1.values.reshape(-1,1), river.pfaf_code_2.values.reshape(-1,1),\n",
    "                            river.pfaf_code_3.values.reshape(-1,1), river.pfaf_code_4.values.reshape(-1,1)])\n",
    "    islake[:]= river.LakeFract.values\n",
    "    lake_storage[:]= river.lakeVol.values\n",
    "    lake_coef[:]= [1.15740741e-07*20 if river.iloc[i].LakeFract==1 else 0 for i in range(len(river))]\n",
    "    lake_power[:]=[1.5 if river.iloc[i].LakeFract==1 else 0 for i in range(len(river))]\n",
    "    lake_type[:]=[1 if river.iloc[i].LakeFract==1 else 0 for i in range(len(river))]\n",
    "    lake_tarVol[:]=0\n",
    "    lakeID[:]= [lake[lake.COMID==river.WBAREACOMI.iloc[i]].COMID.values[0] if len(lake[lake.COMID==river.WBAREACOMI.iloc[i]])>0 else 0 for i in range(len(river))]\n"
   ]
  },
  {
   "cell_type": "markdown",
   "id": "7ac4bf75-5d8b-46b4-928b-c2d09f0c2554",
   "metadata": {},
   "source": [
    "# Water management data"
   ]
  },
  {
   "cell_type": "code",
   "execution_count": 41,
   "id": "14a7bfdb-5262-4e20-95ca-81735912663f",
   "metadata": {},
   "outputs": [],
   "source": [
    "addicks= pd.read_csv('../streamgauge/addicks.csv', converters={'datetime': pd.to_datetime})\n",
    "addicks.set_index('datetime', inplace=True)"
   ]
  },
  {
   "cell_type": "code",
   "execution_count": 42,
   "id": "b1be752f-f9d2-4f6d-aea5-97d4cd19ed14",
   "metadata": {},
   "outputs": [],
   "source": [
    "barker= pd.read_csv('../streamgauge/barker.csv', converters={'datetime':pd.to_datetime})\n",
    "barker.set_index('datetime', inplace=True)"
   ]
  },
  {
   "cell_type": "code",
   "execution_count": 38,
   "id": "d0d13a6d-f46b-441d-ab0d-be7aad594539",
   "metadata": {},
   "outputs": [],
   "source": [
    "time= pd.date_range('201606010100', '201905312300', freq='H')"
   ]
  },
  {
   "cell_type": "code",
   "execution_count": 59,
   "id": "bbf84c92-f782-4ff6-a941-90906dabd9ea",
   "metadata": {},
   "outputs": [
    {
     "data": {
      "text/plain": [
       "<function Dataset.close>"
      ]
     },
     "execution_count": 59,
     "metadata": {},
     "output_type": "execute_result"
    }
   ],
   "source": [
    "f= nc4.Dataset('water_management.nc', 'w', format='NETCDF4')\n",
    "f.createDimension('seg', 3)\n",
    "f.createDimension('time', len(time))\n",
    "segID= f.createVariable('segId', 'i4', 'seg', fill_value=-9999)\n",
    "lakeVol=f.createVariable('vol_wm', 'i4', ('time','seg'), fill_value=-9999)\n",
    "t= f.createVariable('time', 'i4', 'time', fill_value=-9999)\n",
    "t[:]= np.arange(len(t))\n",
    "t.units= 'hours since 2016-06-01 01:00:00'\n",
    "t.calendar= 'standard'\n",
    "segID[:]= [1439133,1440293,1439137]\n",
    "lakeVol[:,1]= barker.resample('H').mean().reindex(time).ffill().values.reshape(-1)\n",
    "lakeVol[:,0]= addicks.resample('H').mean().reindex(time).ffill().values.reshape(-1)\n",
    "lakeVol[:,2]= addicks.resample('H').mean().reindex(time).ffill().values.reshape(-1)\n",
    "f.close"
   ]
  },
  {
   "cell_type": "markdown",
   "id": "33146ae9-fa10-45a0-8933-e1c25e6ab6e3",
   "metadata": {},
   "source": [
    "## Get runoff and subsurface runoff data"
   ]
  },
  {
   "cell_type": "code",
   "execution_count": 179,
   "id": "a1851d7d-e412-4d80-82d3-33bcdfe749fb",
   "metadata": {},
   "outputs": [],
   "source": [
    "import pandas as pd\n",
    "import rioxarray\n",
    "from glob import glob"
   ]
  },
  {
   "cell_type": "code",
   "execution_count": 57,
   "id": "71b5a595-dbd8-4f20-accf-6035e2aaaf50",
   "metadata": {},
   "outputs": [],
   "source": [
    "da= xr.open_rasterio('../ef5_1km/output_simu/runoff.20180601_0100.crest.tif')"
   ]
  },
  {
   "cell_type": "code",
   "execution_count": 58,
   "id": "2b175466-d4f6-452c-b663-a3a2e21aa39e",
   "metadata": {},
   "outputs": [],
   "source": [
    "sample= [da.rio.clip([basins.iloc[i].geometry], drop=False).values for i in range(len(basins))]"
   ]
  },
  {
   "cell_type": "code",
   "execution_count": 94,
   "id": "76e89a68-3afc-48f5-942e-d5f87706f47c",
   "metadata": {},
   "outputs": [],
   "source": [
    "time= pd.date_range('201606010100', '201905312300', freq='H')\n",
    "timeVar= xr.Variable('Time', time)\n",
    "sur_runoff= xr.concat([xr.open_rasterio(t.strftime('../ef5_1km/output_simu/runoff.%Y%m%d_%H%M.crest.tif')) for t in time], dim=timeVar)"
   ]
  },
  {
   "cell_type": "code",
   "execution_count": 95,
   "id": "be2bc95d-11ad-4e98-a7fa-0c8d980825b6",
   "metadata": {},
   "outputs": [],
   "source": [
    "runoff= np.zeros((len(time), len(basins)), dtype=np.float32) * np.nan\n",
    "for i in range(len(sample)):\n",
    "    runoff[:, i]= sur_runoff.squeeze().where(sample[i]!=-9999.).mean(dim=['x','y']).values/1000."
   ]
  },
  {
   "cell_type": "code",
   "execution_count": 96,
   "id": "38d153d4-51f1-4475-a318-534c74cf4a85",
   "metadata": {},
   "outputs": [],
   "source": [
    "del sur_runoff"
   ]
  },
  {
   "cell_type": "code",
   "execution_count": 97,
   "id": "36a13103-b839-41dc-9434-7d291f07cb0f",
   "metadata": {},
   "outputs": [],
   "source": [
    "sur_runoff= xr.concat([xr.open_rasterio(t.strftime('../ef5_1km/output_simu/subsurf.%Y%m%d_%H%M.crest.tif')) for t in time], dim=timeVar)"
   ]
  },
  {
   "cell_type": "code",
   "execution_count": 98,
   "id": "1b1343b9-ed82-4f30-9be7-8d6208bed64e",
   "metadata": {},
   "outputs": [],
   "source": [
    "subrunoff= np.zeros((len(time), len(basins)), dtype=np.float32) * np.nan\n",
    "for i in range(len(sample)):\n",
    "    subrunoff[:, i]= sur_runoff.squeeze().where(sample[i]!=-9999.).mean(dim=['x','y']).values/1000."
   ]
  },
  {
   "cell_type": "code",
   "execution_count": 99,
   "id": "39bffe0e-43ac-42ec-8a68-4d3fb42e8357",
   "metadata": {},
   "outputs": [],
   "source": [
    "runoff[np.isnan(runoff)]=0"
   ]
  },
  {
   "cell_type": "code",
   "execution_count": 100,
   "id": "84092157-c4d8-44a3-995e-ea3461da755e",
   "metadata": {},
   "outputs": [],
   "source": [
    "subrunoff[np.isnan(subrunoff)]=0"
   ]
  },
  {
   "cell_type": "code",
   "execution_count": 101,
   "id": "7198fc9c-87e9-48df-868a-7cfb957a5e3a",
   "metadata": {},
   "outputs": [],
   "source": [
    "ds_runoff= xr.Dataset(\n",
    "    data_vars= {'runoff': (['time', 'HR_HRU'], runoff),\n",
    "                'subrunoff': (['time', 'HR_HRU'], subrunoff),\n",
    "                'hru': (['HR_HRU'],basins.GRIDCODE.values.astype(np.int32))},\n",
    "    coords= {\n",
    "        'time': time,\n",
    "        'HR_HRU': np.arange(len(basins), dtype=np.int32)\n",
    "    },\n",
    "    attrs={'_FillValue': -9999.})"
   ]
  },
  {
   "cell_type": "code",
   "execution_count": 65,
   "id": "5087037c-8622-49c0-819d-adb2b23dde0f",
   "metadata": {},
   "outputs": [],
   "source": [
    "ds_runoff.fillna(-9999.).to_netcdf('Runoff.nc', encoding={'runoff': {'dtype': np.float32, '_FillValue': -9999},\n",
    "                                                          'subrunoff': {'dtype': np.float32, '_FillValue': -9999},\n",
    "                                                          'hru': {'dtype': np.int32, '_FillValue': -9999}})"
   ]
  },
  {
   "cell_type": "code",
   "execution_count": 266,
   "id": "210d160a-9706-420e-80b6-8a871fb41023",
   "metadata": {},
   "outputs": [],
   "source": [
    "f.close()"
   ]
  },
  {
   "cell_type": "code",
   "execution_count": 237,
   "id": "664748de-f672-41c3-844f-bda92e300466",
   "metadata": {},
   "outputs": [],
   "source": [
    "runoff[np.isnan(runoff)]=0\n",
    "subrunoff[np.isnan(subrunoff)]=0"
   ]
  },
  {
   "cell_type": "code",
   "execution_count": 102,
   "id": "8ab1ad1e-f81a-4b99-8b0c-66fcd307a1b0",
   "metadata": {},
   "outputs": [],
   "source": [
    "f= nc4.Dataset('Runoff.nc', 'w', format='NETCDF4')\n",
    "f.createDimension('HR_HRU', len(basins))\n",
    "f.createDimension('time', len(time))\n",
    "\n",
    "hruID= f.createVariable('hru', 'i4', 'HR_HRU', fill_value=-9999)\n",
    "surfq= f.createVariable('runoff', 'f8', ('time','HR_HRU'), fill_value=-9999)\n",
    "subsurfq= f.createVariable('subrunoff', 'f8', ('time','HR_HRU'), fill_value=-9999)\n",
    "# precip= f.createVariable('precip', 'f8', ('time','HR_HRU'), fill_value=-9999)\n",
    "# evap= f.createVariable('evap', 'f8', ('time','HR_HRU'), fill_value=-9999)\n",
    "t= f.createVariable('time', 'f8', 'time', fill_value=-9999)\n",
    "\n",
    "surfq[:]= runoff\n",
    "subsurfq[:]= subrunoff\n",
    "surfq.units= 'mm/s'\n",
    "subsurfq.units='mm/s'\n",
    "hruID[:]= basins.GRIDCODE.values.astype(np.int32)\n",
    "t[:]= np.arange(len(t))\n",
    "t.units= 'hours since 2016-06-01 01:00:00'\n",
    "t.calendar= 'standard'\n",
    "# precip[:]= runoff\n",
    "# precip.units= 'mm/s'\n",
    "# evap[:]= runoff*0.5\n",
    "# evap.units='mm/s'\n",
    "\n",
    "f.close()"
   ]
  },
  {
   "cell_type": "code",
   "execution_count": 75,
   "id": "c3592870-5cbf-4fdd-ae4e-153ffd21067f",
   "metadata": {},
   "outputs": [],
   "source": [
    "ds= xr.open_dataset('../ef5_1km_lake/houston.1000m.sub.lake.mizuRoute.h.2016-06-01-03600.nc')"
   ]
  },
  {
   "cell_type": "markdown",
   "id": "74fe785c-25c0-4938-afa4-6198363c7fa5",
   "metadata": {},
   "source": [
    "# Outputs"
   ]
  },
  {
   "cell_type": "code",
   "execution_count": 1,
   "id": "686bf3e6-f251-4731-b5c9-4d5b6a52f5ec",
   "metadata": {},
   "outputs": [],
   "source": [
    "from celluloid import Camera\n",
    "from IPython.display import HTML\n",
    "import matplotlib.pyplot as plt\n",
    "import cartopy.crs as ccrs\n",
    "import geopandas as gpd\n",
    "import xarray as xr\n",
    "import matplotlib.pyplot as plt"
   ]
  },
  {
   "cell_type": "code",
   "execution_count": 2,
   "id": "897c7824-5860-4ef7-8a34-e36d26e4c495",
   "metadata": {},
   "outputs": [],
   "source": [
    "bounds= gpd.read_file('/mnt/s/Projects/WRF-CRESTiMAP/basin/Houston_basin.shp')"
   ]
  },
  {
   "cell_type": "code",
   "execution_count": 93,
   "id": "c838934b-dc32-46db-8292-10683f7b0fdb",
   "metadata": {},
   "outputs": [],
   "source": [
    "from netCDF4 import num2date, Dataset"
   ]
  },
  {
   "cell_type": "markdown",
   "id": "99a9f68e-48b0-4b2c-8e03-a9fe074c44c8",
   "metadata": {},
   "source": [
    "## 1km grids w/o subsurface routing"
   ]
  },
  {
   "cell_type": "code",
   "execution_count": 98,
   "id": "520afc5f-15d8-4db7-846d-eb440010bc09",
   "metadata": {},
   "outputs": [
    {
     "data": {
      "text/html": [
       "<div>\n",
       "<style scoped>\n",
       "    .dataframe tbody tr th:only-of-type {\n",
       "        vertical-align: middle;\n",
       "    }\n",
       "\n",
       "    .dataframe tbody tr th {\n",
       "        vertical-align: top;\n",
       "    }\n",
       "\n",
       "    .dataframe thead th {\n",
       "        text-align: right;\n",
       "    }\n",
       "</style>\n",
       "<table border=\"1\" class=\"dataframe\">\n",
       "  <thead>\n",
       "    <tr style=\"text-align: right;\">\n",
       "      <th></th>\n",
       "      <th>time</th>\n",
       "    </tr>\n",
       "  </thead>\n",
       "  <tbody>\n",
       "    <tr>\n",
       "      <th>0</th>\n",
       "      <td>2016-06-01 01:00:00</td>\n",
       "    </tr>\n",
       "    <tr>\n",
       "      <th>1</th>\n",
       "      <td>2016-06-01 02:00:00</td>\n",
       "    </tr>\n",
       "    <tr>\n",
       "      <th>2</th>\n",
       "      <td>2016-06-01 03:00:00</td>\n",
       "    </tr>\n",
       "    <tr>\n",
       "      <th>3</th>\n",
       "      <td>2016-06-01 04:00:00</td>\n",
       "    </tr>\n",
       "    <tr>\n",
       "      <th>4</th>\n",
       "      <td>2016-06-01 05:00:00</td>\n",
       "    </tr>\n",
       "    <tr>\n",
       "      <th>...</th>\n",
       "      <td>...</td>\n",
       "    </tr>\n",
       "    <tr>\n",
       "      <th>26274</th>\n",
       "      <td>2019-05-31 19:00:00</td>\n",
       "    </tr>\n",
       "    <tr>\n",
       "      <th>26275</th>\n",
       "      <td>2019-05-31 20:00:00</td>\n",
       "    </tr>\n",
       "    <tr>\n",
       "      <th>26276</th>\n",
       "      <td>2019-05-31 21:00:00</td>\n",
       "    </tr>\n",
       "    <tr>\n",
       "      <th>26277</th>\n",
       "      <td>2019-05-31 22:00:00</td>\n",
       "    </tr>\n",
       "    <tr>\n",
       "      <th>26278</th>\n",
       "      <td>2019-05-31 23:00:00</td>\n",
       "    </tr>\n",
       "  </tbody>\n",
       "</table>\n",
       "<p>26279 rows × 1 columns</p>\n",
       "</div>"
      ],
      "text/plain": [
       "                     time\n",
       "0     2016-06-01 01:00:00\n",
       "1     2016-06-01 02:00:00\n",
       "2     2016-06-01 03:00:00\n",
       "3     2016-06-01 04:00:00\n",
       "4     2016-06-01 05:00:00\n",
       "...                   ...\n",
       "26274 2019-05-31 19:00:00\n",
       "26275 2019-05-31 20:00:00\n",
       "26276 2019-05-31 21:00:00\n",
       "26277 2019-05-31 22:00:00\n",
       "26278 2019-05-31 23:00:00\n",
       "\n",
       "[26279 rows x 1 columns]"
      ]
     },
     "execution_count": 98,
     "metadata": {},
     "output_type": "execute_result"
    }
   ],
   "source": [
    "df_lake"
   ]
  },
  {
   "cell_type": "code",
   "execution_count": 197,
   "id": "4a0cc511-f830-43e5-9c67-3a8e0e34702a",
   "metadata": {},
   "outputs": [],
   "source": [
    "# with Dataset('houston.nhdplus.crest.lake.sub.mizuroute.h.2016-06-01-03600.nc', 'r') as nc:\n",
    "#     time= pd.date_range(num2date(nc['time'][:][0], nc['time'].units).strftime('%Y%m%d%H%M'), num2date(nc['time'][:][-1], nc['time'].units).strftime('%Y%m%d%H%M'),\n",
    "#                                    freq='H')\n",
    "#     segID= nc['reachID'][:]\n",
    "#     lake_mat= nc['IRFroutedRunoff'][:]\n",
    "\n",
    "#     df_lake['Q']= nc['IRFroutedRunoff'][:].values\n",
    "ds_lake= xr.open_mfdataset('houston.1000m.sub.lake.mizuroute.h.*.nc', concat_dim=['IRFroutedRunoff', 'IRFlakeVol']).load()\n",
    "ds_nolake=xr.open_mfdataset('houston.1000m.sub.nolake.mizuroute.h.*.nc').load()\n",
    "ds_nosub=xr.open_mfdataset('houston.1000m.nosub.nolake.mizuroute.h.*.nc').load()"
   ]
  },
  {
   "cell_type": "code",
   "execution_count": 9,
   "id": "5a715712-1ac3-4761-9aff-22bf70a4a98c",
   "metadata": {},
   "outputs": [],
   "source": [
    "gage= gpd.read_file('/mnt/s/Projects/couple_mizuroute/Houston_case/streamgauge/NHDPlus_streamgage.shp')"
   ]
  },
  {
   "cell_type": "code",
   "execution_count": 12,
   "id": "b23adebc-e25e-403b-8ff6-bca11dcdc496",
   "metadata": {},
   "outputs": [],
   "source": [
    "gage= gage[[reach in river.REACHCODE.values for reach in gage.REACHCODE]]"
   ]
  },
  {
   "cell_type": "code",
   "execution_count": 14,
   "id": "6d43aa60-c692-4930-acbc-a7b067625835",
   "metadata": {},
   "outputs": [],
   "source": [
    "import os"
   ]
  },
  {
   "cell_type": "code",
   "execution_count": 15,
   "id": "9b6acdd1-5e9e-4c7d-a30c-0b99ef00e64f",
   "metadata": {},
   "outputs": [],
   "source": [
    "gage= gage[[True if os.path.exists('../streamgauge/%s.csv'%_id) else False for _id in gage.SOURCE_FEA.values]]"
   ]
  },
  {
   "cell_type": "code",
   "execution_count": 6,
   "id": "28c4a3ae-fded-49df-a759-23f787dbd06c",
   "metadata": {},
   "outputs": [],
   "source": [
    "import hydrostats.metrics as hm\n",
    "import pandas as pd\n",
    "import numpy as np"
   ]
  },
  {
   "cell_type": "code",
   "execution_count": 220,
   "id": "988ae6c9-b08e-4789-8a93-c334782e6109",
   "metadata": {},
   "outputs": [],
   "source": [
    "def calc_stat(ds, comid):\n",
    "    print(gage.loc[gage.FLComID==comid].SOURCE_FEA.values[0])\n",
    "    ts= pd.DataFrame(index=pd.to_datetime(ds.sel(time=slice('20170101','20190531')).time.values), columns=['obs', 'sim'])\n",
    "    stn= pd.read_csv('../streamgauge/%s.csv'%gage.loc[gage.FLComID==comid].SOURCE_FEA.values[0], converters={'datetime':pd.to_datetime})\n",
    "    stn.set_index('datetime', inplace=True)\n",
    "    iseg= np.where(ds.reachID[0]==comid)[0]\n",
    "    q= ds['IRFroutedRunoff'].sel(seg=iseg, time=slice('20170101','20190531'))\n",
    "    ts.loc[pd.to_datetime(ds.sel(time=slice('20170101','20190531')).time.values),'sim']= q.values.reshape(-1)\n",
    "    intersected_ind= ts.index.intersection(stn.index)\n",
    "    ts.loc[intersected_ind, 'obs']=stn.loc[intersected_ind, 'discharge']\n",
    "    ts=ts.astype(float).dropna()\n",
    "    nash= hm.nse(ts.obs.values, ts.sim.values)\n",
    "    kge= hm.kge_2009(ts.obs.values, ts.sim.values)\n",
    "\n",
    "    return nash, kge\n",
    "\n",
    "def get_ts(gage_id, reachID, time, mat):\n",
    "    comid= gage.loc[gage.SOURCE_FEA==gage_id].FLComID.values\n",
    "    print(comid)\n",
    "    ts= pd.DataFrame(index=time, columns=['obs', 'sim'])\n",
    "    stn= pd.read_csv('../streamgauge/%s.csv'%gage_id, converters={'datetime':pd.to_datetime})\n",
    "    stn.set_index('datetime', inplace=True)\n",
    "    iseg= np.where(reachID==comid)[0]\n",
    "#     q= ds['IRFroutedRunoff'].sel(seg=iseg)\n",
    "    ts.loc[time,'sim']= mat[:,iseg].filled(np.nan).reshape(-1)\n",
    "    intersected_ind= ts.index.intersection(stn.index)\n",
    "    ts.loc[intersected_ind, 'obs']=stn.loc[intersected_ind, 'discharge']\n",
    "#     ts=ts.astype(float).dropna()\n",
    "    return ts"
   ]
  },
  {
   "cell_type": "code",
   "execution_count": 239,
   "id": "ced9ede7-70d0-483c-a25f-7e801795314d",
   "metadata": {},
   "outputs": [
    {
     "name": "stdout",
     "output_type": "stream",
     "text": [
      "[1439317]\n"
     ]
    }
   ],
   "source": [
    "ts= get_ts('08073500', segID, time, lake_mat)"
   ]
  },
  {
   "cell_type": "code",
   "execution_count": 199,
   "id": "3511fa78-b8fe-491f-b4bd-0a4764ce6feb",
   "metadata": {},
   "outputs": [
    {
     "name": "stdout",
     "output_type": "stream",
     "text": [
      "08076700\n",
      "08074000\n",
      "08072300\n",
      "08075000\n",
      "08074760\n",
      "08075730\n",
      "08075763\n",
      "08075770\n",
      "08072730\n",
      "08075500\n",
      "08074810\n",
      "08073500\n",
      "08074500\n",
      "08073600\n",
      "08073700\n",
      "08075900\n",
      "08076180\n",
      "08074020\n",
      "08076000\n",
      "08072760\n",
      "08076500\n",
      "08074150\n"
     ]
    }
   ],
   "source": [
    "for _id in gage.FLComID.values:\n",
    "    nse,kge= calc_stat(ds_nosub, _id)\n",
    "    gage.loc[gage.FLComID==_id, 'NSE_nosub']=nse\n",
    "    gage.loc[gage.FLComID==_id, 'KGE_nosub']=kge"
   ]
  },
  {
   "cell_type": "code",
   "execution_count": 211,
   "id": "869815b5-42ca-4a9e-8d0b-92a05b32e4ea",
   "metadata": {},
   "outputs": [],
   "source": [
    "fig= plt.figure(figsize=(10,6))\n",
    "ax=fig.add_subplot(111)\n",
    "camera= Camera(fig)\n",
    "for t in range(0,100*24,24):\n",
    "    river['t']= ds.IRFroutedRunoff.isel(time=t).values\n",
    "    cs=river.plot('t', legend=False, ax=ax, vmin=0, vmax=100, cmap='cool')\n",
    "    bounds.plot(ax=ax,color='None',edgecolor='k')\n",
    "    ax.text(0.5,1.01, ds.time.isel(time=t).dt.strftime('%Y%m%d').values, transform=ax.transAxes)\n",
    "#     fig.colorbar(mappable=cs)\n",
    "    camera.snap()\n",
    "animation=camera.animate()\n",
    "plt.close();"
   ]
  },
  {
   "cell_type": "code",
   "execution_count": 8,
   "id": "fb30235b-ff17-4bfd-894a-ff04e7a12baa",
   "metadata": {},
   "outputs": [],
   "source": [
    "ds_sub= xr.open_dataset('houston.1000m.sub.h.2017-01-01-00000.nc')"
   ]
  },
  {
   "cell_type": "code",
   "execution_count": 240,
   "id": "dc1e3d27-a7ec-4176-bf0d-a528d29e229d",
   "metadata": {},
   "outputs": [
    {
     "data": {
      "text/plain": [
       "(array([110]),)"
      ]
     },
     "execution_count": 240,
     "metadata": {},
     "output_type": "execute_result"
    }
   ],
   "source": [
    "np.where(ds_lake.reachID[0]==1439317)"
   ]
  },
  {
   "cell_type": "code",
   "execution_count": 247,
   "id": "ce02223a-bf9f-4202-b300-049fc044663b",
   "metadata": {},
   "outputs": [],
   "source": [
    "import multiprocessing"
   ]
  },
  {
   "cell_type": "code",
   "execution_count": null,
   "id": "3638f2c8-7dc4-4a0b-a622-579f2b6dc556",
   "metadata": {},
   "outputs": [],
   "source": [
    "ax=gage.plot('KGE_sub', vmin=0, vmax=1, legend=True, figsize=(12,6))\n",
    "for i in range(len(gage)):\n",
    "    x=gage.LonSite.iloc[i];y=gage.LatSite.iloc[i]\n",
    "    l=gage.SOURCE_FEA.iloc[i]\n",
    "    ax.text(x,y,l)"
   ]
  },
  {
   "cell_type": "markdown",
   "id": "409f1072-e5fd-4666-80a7-46187bdc6b2d",
   "metadata": {},
   "source": [
    "## Gridded"
   ]
  },
  {
   "cell_type": "code",
   "execution_count": 201,
   "id": "c047333e-dc87-49cb-8b0c-5d723881adaf",
   "metadata": {},
   "outputs": [],
   "source": [
    "for _id in gage.SOURCE_FEA.tolist():\n",
    "    if os.path.exists('../ef5_1km/output_simu/ts.%s.crest.csv'%_id):\n",
    "        df_res= pd.read_csv('../ef5_1km/output_simu/ts.%s.crest.csv'%_id)\n",
    "        df_res= df_res.dropna()\n",
    "        nash= hm.nse(df_res.iloc[:,1].values, df_res.iloc[:,2].values)\n",
    "        kge= hm.kge_2009(df_res.iloc[:,1].values, df_res.iloc[:,2].values)\n",
    "        gage.loc[gage.SOURCE_FEA==_id, 'NSE_gridded']= nash\n",
    "        gage.loc[gage.SOURCE_FEA==_id, 'KGE_gridded']= kge"
   ]
  },
  {
   "cell_type": "code",
   "execution_count": 219,
   "id": "4dd36f1c-1d14-445a-a44a-44ce929cfc3f",
   "metadata": {},
   "outputs": [],
   "source": [
    "gage.drop('geometry', axis=1).to_csv('gage_metrics.csv')"
   ]
  },
  {
   "cell_type": "code",
   "execution_count": null,
   "id": "5c476af8-db52-4412-be18-ba8d6bcefbff",
   "metadata": {},
   "outputs": [],
   "source": [
    "(\"#6B0077\",\"#724E95\",\"#7C7BB2\",\"#8DA3CA\",\"#A7C6DD\",\"#C8E2EB\",\"#F1F1F1\")"
   ]
  },
  {
   "cell_type": "code",
   "execution_count": 292,
   "id": "efbdb01b-9774-4e94-82b3-2e3b301f3268",
   "metadata": {},
   "outputs": [],
   "source": [
    "from matplotlib.patches import Patch"
   ]
  },
  {
   "cell_type": "code",
   "execution_count": 306,
   "id": "9b4d183a-e870-4221-b76f-428fb238e921",
   "metadata": {},
   "outputs": [
    {
     "data": {
      "text/plain": [
       "[Text(1, 0, 'CREST'),\n",
       " Text(2, 0, 'CREST-VEC'),\n",
       " Text(3, 0, 'CREST-VEC+subq'),\n",
       " Text(4, 0, 'CREST-VEC+subq+lake')]"
      ]
     },
     "execution_count": 306,
     "metadata": {},
     "output_type": "execute_result"
    },
    {
     "name": "stderr",
     "output_type": "stream",
     "text": [
      "/home/allen/miniconda3/envs/wrf/lib/python3.7/site-packages/IPython/core/pylabtools.py:132: UserWarning: This figure includes Axes that are not compatible with tight_layout, so results might be incorrect.\n",
      "  fig.canvas.print_figure(bytes_io, **kw)\n"
     ]
    },
    {
     "data": {
      "image/png": "[encoded data removed]",
      "text/plain": [
       "<Figure size 576x720 with 2 Axes>"
      ]
     },
     "metadata": {},
     "output_type": "display_data"
    }
   ],
   "source": [
    "fig, axes= plt.subplots(2,1 ,figsize=(8,10), facecolor='white', gridspec_kw= {'hspace':0.02})\n",
    "ax=axes[0]\n",
    "\n",
    "ax.bar([0, 0.2, 0.4, 1, 1.2,1.4, 2, 2.2, 2.4, 3, 3.2, 3.4], [0.01, 0.08, 0.15, \n",
    "                                                             4.555734e01/2.627900e04, 5.158562e01/2.627900e04, 5.080883e01/2.627900e04,\n",
    "                                                             4.877890e01/2.627900e04, 4.458733e01/2.627900e04, 4.445923e01/2.627900e04,\n",
    "                                                             5.326006e01/2.627900e04, 4.046371e01/2.627900e04, 5.234855e01/2.627900e04],\n",
    "       color=[\"#6B0077\", \"#7C7BB2\", \"#A7C6DD\"]*4, width=0.2, edgecolor='k')\n",
    "ax.set_xticks([])\n",
    "# ax.set_yticks([0,1e-2,1e-1])\n",
    "ax.set_ylim([1e-3,0.2])\n",
    "ax.set_ylabel('Elapsed time per step (sec)')\n",
    "ax.legend(handles=[Patch(facecolor='#6B0077', edgecolor='k', label='1km grid'),\n",
    "          Patch(facecolor='#7C7BB2', edgecolor='k', label='250m grid'),\n",
    "          Patch(facecolor='#A7C6DD', edgecolor='k', label='90m grid')])\n",
    "# ax.set_xticklabels()\n",
    "ax.set_yscale('log')\n",
    "ax= axes[1]\n",
    "ax.boxplot([gage.KGE_gridded.dropna(),  gage.KGE_nosub, gage.KGE_nolake, gage.KGE_lake], showfliers=False, whiskerprops = dict(linestyle='-',linewidth=3.0,\n",
    "    color='black'), boxprops={'linewidth':3}, medianprops={'linewidth':3, 'color':'k'}, capprops={'linewidth':3})\n",
    "ax.set_yticks(np.arange(-.7,1.0, 0.2))\n",
    "ax.set_ylabel('NSE (-)')\n",
    "ax.set_xticks([1,2,3,4]);\n",
    "ax.set_xticklabels(['CREST', 'CREST-VEC', 'CREST-VEC+subq',   'CREST-VEC+subq+lake'], rotation=15)"
   ]
  },
  {
   "cell_type": "code",
   "execution_count": 307,
   "id": "1d9eb9aa-60d2-47ea-be9d-427bf97451b8",
   "metadata": {},
   "outputs": [
    {
     "name": "stderr",
     "output_type": "stream",
     "text": [
      "/home/allen/miniconda3/envs/wrf/lib/python3.7/site-packages/ipykernel_launcher.py:1: UserWarning: This figure includes Axes that are not compatible with tight_layout, so results might be incorrect.\n",
      "  \"\"\"Entry point for launching an IPython kernel.\n"
     ]
    }
   ],
   "source": [
    "fig.savefig('../figures/boxplot_houston.png', dpi=400)"
   ]
  },
  {
   "cell_type": "code",
   "execution_count": 265,
   "id": "7e90be8a-4547-4ff3-86d8-6eee9132184c",
   "metadata": {},
   "outputs": [],
   "source": [
    "colors=(\"C0\", \"C1\", \"C2\", \"C3\")"
   ]
  },
  {
   "cell_type": "code",
   "execution_count": 251,
   "id": "1ba2a8f7-42e2-440d-a52e-85d3c2d86f7e",
   "metadata": {},
   "outputs": [],
   "source": [
    "from mpl_toolkits.axes_grid.inset_locator import inset_axes\n",
    "import matplotlib.dates as mdates"
   ]
  },
  {
   "cell_type": "code",
   "execution_count": 275,
   "id": "4717cfd6-3272-41d0-99a0-f9017590ebcb",
   "metadata": {},
   "outputs": [
    {
     "name": "stderr",
     "output_type": "stream",
     "text": [
      "/home/allen/miniconda3/envs/wrf/lib/python3.7/site-packages/IPython/core/pylabtools.py:132: UserWarning: This figure includes Axes that are not compatible with tight_layout, so results might be incorrect.\n",
      "  fig.canvas.print_figure(bytes_io, **kw)\n"
     ]
    },
    {
     "data": {
      "image/png": "[encoded data removed]",
      "text/plain": [
       "<Figure size 576x864 with 6 Axes>"
      ]
     },
     "metadata": {},
     "output_type": "display_data"
    }
   ],
   "source": [
    "fig, axes= plt.subplots(3,1,figsize=(8,12), gridspec_kw={'hspace':0.02}, facecolor='white')\n",
    "ax= axes[0]\n",
    "gridded_ts= pd.read_csv('../ef5_1km/output_simu/ts.08073500.crest.csv', converters={'Time': pd.to_datetime}).set_index('Time')\n",
    "gridded_ts= gridded_ts.loc[df_lake.time]\n",
    "ax.plot(ds_lake.time, ds_lake.sel(seg=110).IRFroutedRunoff.values, label='CREST-VEC+subq+lake', color=colors[0])\n",
    "ax.plot(ds_nolake.time, ds_nolake.sel(seg=110).IRFroutedRunoff.values, label='CREST-VEC+subq', color=colors[1])\n",
    "ax.plot(ds_nosub.time, ds_nosub.sel(seg=110).IRFroutedRunoff.values, label='CREST-VEC', color=colors[2])\n",
    "ax.plot(ds_lake.time, gridded_ts.iloc[:, 1], label='CREST', color=colors[3])\n",
    "ax.plot(ds_lake.time, gridded_ts.iloc[:, 0], label='obs', color='k', linestyle='dashed')\n",
    "ax.set_ylabel('Discharge (cms)')\n",
    "ax.set_xticks([])\n",
    "ax2= inset_axes(ax, loc='upper right', height='40%', width=\"40%\")\n",
    "ax2.plot(ds_lake.sel(time=slice('20170825', '20170901')).time, ds_lake.sel(time=slice('20170825', '20170901'), seg=110).IRFroutedRunoff.values, color=colors[0])\n",
    "ax2.plot(ds_lake.sel(time=slice('20170825', '20170901')).time, ds_nolake.sel(time=slice('20170825', '20170901'), seg=110).IRFroutedRunoff.values, color=colors[1])\n",
    "ax2.plot(ds_lake.sel(time=slice('20170825', '20170901')).time, ds_nosub.sel(time=slice('20170825', '20170901'), seg=110).IRFroutedRunoff.values, color=colors[2])\n",
    "ax2.plot(ds_lake.sel(time=slice('20170825', '20170901')).time, gridded_ts.loc['20170825':'20170901'].iloc[:, 0], color=colors[3])\n",
    "ax2.plot(ds_lake.sel(time=slice('20170825', '20170901')).time, gridded_ts.loc['20170825':'20170901'].iloc[:, 1], color='k', linestyle='dashed')\n",
    "ax2.set_xticks([])\n",
    "ax.legend(loc='upper left', fontsize=13, frameon=False)\n",
    "\n",
    "ax= axes[1]\n",
    "gridded_ts= pd.read_csv('../ef5_1km/output_simu/ts.08073600.crest.csv', converters={'Time': pd.to_datetime}).set_index('Time')\n",
    "gridded_ts= gridded_ts.loc[df_lake.time]\n",
    "ax.plot(ds_lake.time, ds_lake.sel(seg=150).IRFroutedRunoff.values, label='CREST-VEC+subq+lake', color=colors[0])\n",
    "ax.plot(ds_nolake.time, ds_nolake.sel(seg=150).IRFroutedRunoff.values, label='CREST-VEC+subq', color=colors[1])\n",
    "ax.plot(ds_nosub.time, ds_nosub.sel(seg=150).IRFroutedRunoff.values, label='CREST-VEC', color=colors[2])\n",
    "ax.plot(ds_lake.time, gridded_ts.iloc[:, 1], label='CREST', color=colors[3])\n",
    "ax.plot(ds_lake.time, gridded_ts.iloc[:, 0], label='obs', color='k', linestyle='dashed')\n",
    "ax.set_ylabel('Discharge (cms)')\n",
    "ax.set_xticks([])\n",
    "ax2= inset_axes(ax, loc='upper right', height='40%', width=\"40%\")\n",
    "ax2.plot(ds_lake.sel(time=slice('20170825', '20170901')).time, ds_lake.sel(time=slice('20170825', '20170901'), seg=150).IRFroutedRunoff.values, color=colors[0])\n",
    "ax2.plot(ds_lake.sel(time=slice('20170825', '20170901')).time, ds_nolake.sel(time=slice('20170825', '20170901'), seg=150).IRFroutedRunoff.values, color=colors[1])\n",
    "ax2.plot(ds_lake.sel(time=slice('20170825', '20170901')).time, ds_nosub.sel(time=slice('20170825', '20170901'), seg=150).IRFroutedRunoff.values, color=colors[2])\n",
    "ax2.plot(ds_lake.sel(time=slice('20170825', '20170901')).time, gridded_ts.loc['20170825':'20170901'].iloc[:, 0], color=colors[3])\n",
    "ax2.plot(ds_lake.sel(time=slice('20170825', '20170901')).time, gridded_ts.loc['20170825':'20170901'].iloc[:, 1], color='k', linestyle='dashed')\n",
    "ax2.set_xticks([])\n",
    "\n",
    "ax= axes[2]\n",
    "gridded_ts= pd.read_csv('../ef5_1km/output_simu/ts.08073700.crest.csv', converters={'Time': pd.to_datetime}).set_index('Time')\n",
    "gridded_ts= gridded_ts.loc[df_lake.time]\n",
    "ax.plot(ds_lake.time, ds_lake.sel(seg=226).IRFroutedRunoff.values, label='CREST-VEC+subq+lake', color=colors[0])\n",
    "ax.plot(ds_nolake.time, ds_nolake.sel(seg=226).IRFroutedRunoff.values, label='CREST-VEC+subq', color=colors[1])\n",
    "ax.plot(ds_nosub.time, ds_nosub.sel(seg=226).IRFroutedRunoff.values, label='CREST-VEC', color=colors[2])\n",
    "ax.plot(ds_lake.time, gridded_ts.iloc[:, 1], label='CREST', color=colors[3])\n",
    "ax.plot(ds_lake.time, gridded_ts.iloc[:, 0], label='obs', color='k', linestyle='dashed')\n",
    "ax.set_ylabel('Discharge (cms)')\n",
    "ax.set_xticks(ds_lake.time[::365*20])\n",
    "ax2= inset_axes(ax, loc='upper right', height='40%', width=\"40%\")\n",
    "ax2.plot(ds_lake.sel(time=slice('20170825', '20170901')).time, ds_lake.sel(time=slice('20170825', '20170901'), seg=226).IRFroutedRunoff.values, color=colors[0])\n",
    "ax2.plot(ds_lake.sel(time=slice('20170825', '20170901')).time, ds_nolake.sel(time=slice('20170825', '20170901'), seg=226).IRFroutedRunoff.values, color=colors[1])\n",
    "ax2.plot(ds_lake.sel(time=slice('20170825', '20170901')).time, ds_nosub.sel(time=slice('20170825', '20170901'), seg=226).IRFroutedRunoff.values, color=colors[2])\n",
    "ax2.plot(ds_lake.sel(time=slice('20170825', '20170901')).time, gridded_ts.loc['20170825':'20170901'].iloc[:, 0], color=colors[3])\n",
    "ax2.plot(ds_lake.sel(time=slice('20170825', '20170901')).time, gridded_ts.loc['20170825':'20170901'].iloc[:, 1], color='k', linestyle='dashed')\n",
    "ax2.set_xticks([]);"
   ]
  },
  {
   "cell_type": "code",
   "execution_count": 276,
   "id": "b3047d89-6155-4b9f-a182-64b0a0fba262",
   "metadata": {},
   "outputs": [
    {
     "name": "stderr",
     "output_type": "stream",
     "text": [
      "/home/allen/miniconda3/envs/wrf/lib/python3.7/site-packages/ipykernel_launcher.py:1: UserWarning: This figure includes Axes that are not compatible with tight_layout, so results might be incorrect.\n",
      "  \"\"\"Entry point for launching an IPython kernel.\n"
     ]
    }
   ],
   "source": [
    "fig.savefig('../figures/ts.lake.png', dpi=400)"
   ]
  },
  {
   "cell_type": "markdown",
   "id": "0cb5f128-6a89-47fc-a456-79d3c8b206eb",
   "metadata": {},
   "source": [
    "## No-lake routing"
   ]
  },
  {
   "cell_type": "code",
   "execution_count": 159,
   "id": "78dfb48e-332d-46f7-be3e-e89d3ce66d91",
   "metadata": {},
   "outputs": [],
   "source": [
    "ds= xr.open_mfdataset('houston.1000m.sub.nolake.mizuroute.h.*.nc', concat_dim='time', data_vars=['IRFroutedRunoff'])"
   ]
  },
  {
   "cell_type": "code",
   "execution_count": 162,
   "id": "a86ab9e6-8573-418c-9850-d74279fe7603",
   "metadata": {},
   "outputs": [
    {
     "data": {
      "text/plain": [
       "array(7538.3955, dtype=float32)"
      ]
     },
     "execution_count": 162,
     "metadata": {},
     "output_type": "execute_result"
    }
   ],
   "source": [
    "ds['IRFroutedRunoff'].max().values"
   ]
  },
  {
   "cell_type": "code",
   "execution_count": 110,
   "id": "bfb7e59d-3dce-4be1-b5b7-29e636643ea5",
   "metadata": {},
   "outputs": [
    {
     "name": "stdout",
     "output_type": "stream",
     "text": [
      "08076700\n",
      "08074000\n",
      "08072300\n",
      "08075000\n",
      "08074760\n",
      "08075730\n",
      "08075763\n",
      "08075770\n",
      "08072730\n",
      "08075500\n",
      "08074810\n",
      "08073500\n",
      "08074500\n",
      "08073600\n",
      "08073700\n",
      "08075900\n",
      "08076180\n",
      "08074020\n",
      "08076000\n",
      "08072760\n",
      "08076500\n",
      "08074150\n"
     ]
    }
   ],
   "source": [
    "for _id in gage.FLComID.values:\n",
    "    nse,kge= calc_stat(_id)\n",
    "    gage.loc[gage.FLComID==_id, 'NSE_nolake']=nse\n",
    "    gage.loc[gage.FLComID==_id, 'KGE_nolake']=kge"
   ]
  },
  {
   "cell_type": "code",
   "execution_count": 112,
   "id": "e4ed9d34-5ba4-421d-bba9-ca52c6a13446",
   "metadata": {},
   "outputs": [
    {
     "data": {
      "image/png": "[encoded data removed]",
      "text/plain": [
       "<Figure size 864x432 with 2 Axes>"
      ]
     },
     "metadata": {
      "needs_background": "light"
     },
     "output_type": "display_data"
    }
   ],
   "source": [
    "ax=gage.plot('KGE_nolake', vmin=0, vmax=1, legend=True, figsize=(12,6))\n",
    "for i in range(len(gage)):\n",
    "    x=gage.LonSite.iloc[i];y=gage.LatSite.iloc[i]\n",
    "    l=gage.SOURCE_FEA.iloc[i]\n",
    "    ax.text(x,y,l)"
   ]
  },
  {
   "cell_type": "code",
   "execution_count": 113,
   "id": "ca74c9a1-e57b-41ce-803f-9ce17a85b99a",
   "metadata": {},
   "outputs": [
    {
     "data": {
      "text/plain": [
       "<AxesSubplot:>"
      ]
     },
     "execution_count": 113,
     "metadata": {},
     "output_type": "execute_result"
    },
    {
     "data": {
      "image/png": "[encoded data removed]",
      "text/plain": [
       "<Figure size 432x288 with 1 Axes>"
      ]
     },
     "metadata": {
      "needs_background": "light"
     },
     "output_type": "display_data"
    }
   ],
   "source": [
    "gage.KGE_nolake.plot(kind='box')"
   ]
  },
  {
   "cell_type": "code",
   "execution_count": 183,
   "id": "12ecc701-6036-448a-9f92-e2d3d2a5af0d",
   "metadata": {},
   "outputs": [],
   "source": [
    "ds= xr.open_dataset('/mnt/s/Models/mizuRoute-feature-mpi-pio/example/HDMA_lake/output/test/lake_test.mizuroute.h.1980-01-01-00000.nc')"
   ]
  },
  {
   "cell_type": "code",
   "execution_count": 187,
   "id": "a600b3dd-231c-4abc-944f-bd3df5c2d9c9",
   "metadata": {},
   "outputs": [
    {
     "data": {
      "text/plain": [
       "array([[      0.   ,       0.   ,       0.   , ...,   79923.3  ,\n",
       "          52579.656,   80332.71 ],\n",
       "       [      0.   ,       0.   ,       0.   , ...,  405706.1  ,\n",
       "         219299.53 ,  311775.25 ],\n",
       "       [      0.   ,       0.   ,       0.   , ..., 1062266.5  ,\n",
       "         499577.1  ,  675795.56 ]], dtype=float32)"
      ]
     },
     "execution_count": 187,
     "metadata": {},
     "output_type": "execute_result"
    }
   ],
   "source": [
    "ds.IRFlakeVol.values"
   ]
  }
 ],
 "metadata": {
  "kernelspec": {
   "display_name": "Python 3",
   "language": "python",
   "name": "python3"
  },
  "language_info": {
   "codemirror_mode": {
    "name": "ipython",
    "version": 3
   },
   "file_extension": ".py",
   "mimetype": "text/x-python",
   "name": "python",
   "nbconvert_exporter": "python",
   "pygments_lexer": "ipython3",
   "version": "3.7.7"
  }
 },
 "nbformat": 4,
 "nbformat_minor": 5
}
